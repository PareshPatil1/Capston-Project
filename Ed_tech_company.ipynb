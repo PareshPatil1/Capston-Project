{
  "cells": [
    {
      "cell_type": "markdown",
      "id": "92561c58",
      "metadata": {
        "id": "92561c58"
      },
      "source": [
        "# EDA of Ed_Tech Company"
      ]
    },
    {
      "cell_type": "markdown",
      "source": [
        "import Library"
      ],
      "metadata": {
        "id": "HMa2OeTTWNlP"
      },
      "id": "HMa2OeTTWNlP"
    },
    {
      "cell_type": "code",
      "execution_count": null,
      "id": "5f6cfa19",
      "metadata": {
        "id": "5f6cfa19"
      },
      "outputs": [],
      "source": [
        "import pandas as pd \n",
        "import numpy as np\n",
        "import seaborn as sns\n",
        "import matplotlib.pyplot as plt\n",
        "%matplotlib inline "
      ]
    },
    {
      "cell_type": "markdown",
      "source": [
        "Describe Dataset"
      ],
      "metadata": {
        "id": "7GVBq7erV8FA"
      },
      "id": "7GVBq7erV8FA"
    },
    {
      "cell_type": "code",
      "execution_count": null,
      "id": "2558e405",
      "metadata": {
        "id": "2558e405"
      },
      "outputs": [],
      "source": [
        "df = pd.read_csv(\"/content/online_All_Business_p1_p626.csv\")"
      ]
    },
    {
      "cell_type": "code",
      "execution_count": null,
      "id": "5a8ed481",
      "metadata": {
        "colab": {
          "base_uri": "https://localhost:8080/",
          "height": 565
        },
        "id": "5a8ed481",
        "outputId": "a0c0a8a4-84ef-48c2-cda3-7c86bdcc7b47"
      },
      "outputs": [
        {
          "output_type": "execute_result",
          "data": {
            "text/plain": [
              "        id                                              title  \\\n",
              "0   762616  The Complete SQL Bootcamp 2020: Go from Zero t...   \n",
              "1   937678  Tableau 2020 A-Z: Hands-On Tableau Training fo...   \n",
              "2  1361790             PMP Exam Prep Seminar -  PMBOK Guide 6   \n",
              "3   648826         The Complete Financial Analyst Course 2020   \n",
              "4   637930  An Entire MBA in 1 Course:Award Winning Busine...   \n",
              "\n",
              "                                                 url  is_paid  \\\n",
              "0                 /course/the-complete-sql-bootcamp/     True   \n",
              "1                                 /course/tableau10/     True   \n",
              "2                        /course/pmp-pmbok6-35-pdus/     True   \n",
              "3     /course/the-complete-financial-analyst-course/     True   \n",
              "4  /course/an-entire-mba-in-1-courseaward-winning...     True   \n",
              "\n",
              "   num_subscribers  avg_rating  avg_rating_recent   rating  num_reviews  \\\n",
              "0           295509     4.66019            4.67874  4.67874        78006   \n",
              "1           209070     4.58956            4.60015  4.60015        54581   \n",
              "2           155282     4.59491            4.59326  4.59326        52653   \n",
              "3           245860     4.54407            4.53772  4.53772        46447   \n",
              "4           374836     4.47080            4.47173  4.47173        41630   \n",
              "\n",
              "   is_wishlisted  num_published_lectures  num_published_practice_tests  \\\n",
              "0          False                      84                             0   \n",
              "1          False                      78                             0   \n",
              "2          False                     292                             2   \n",
              "3          False                     338                             0   \n",
              "4          False                      83                             0   \n",
              "\n",
              "                created        published_time  discount_price__amount  \\\n",
              "0  2016-02-14T22:57:48Z  2016-04-06T05:16:11Z                   455.0   \n",
              "1  2016-08-22T12:10:18Z  2016-08-23T16:59:49Z                   455.0   \n",
              "2  2017-09-26T16:32:48Z  2017-11-14T23:58:14Z                   455.0   \n",
              "3  2015-10-23T13:34:35Z  2016-01-21T01:38:48Z                   455.0   \n",
              "4  2015-10-12T06:39:46Z  2016-01-11T21:39:33Z                   455.0   \n",
              "\n",
              "  discount_price__currency discount_price__price_string  price_detail__amount  \\\n",
              "0                      INR                         ₹455                  8640   \n",
              "1                      INR                         ₹455                  8640   \n",
              "2                      INR                         ₹455                  8640   \n",
              "3                      INR                         ₹455                  8640   \n",
              "4                      INR                         ₹455                  8640   \n",
              "\n",
              "  price_detail__currency price_detail__price_string  \n",
              "0                    INR                     ₹8,640  \n",
              "1                    INR                     ₹8,640  \n",
              "2                    INR                     ₹8,640  \n",
              "3                    INR                     ₹8,640  \n",
              "4                    INR                     ₹8,640  "
            ],
            "text/html": [
              "\n",
              "  <div id=\"df-a55e76a1-e1a2-43e1-a8f8-94dc6a14a294\">\n",
              "    <div class=\"colab-df-container\">\n",
              "      <div>\n",
              "<style scoped>\n",
              "    .dataframe tbody tr th:only-of-type {\n",
              "        vertical-align: middle;\n",
              "    }\n",
              "\n",
              "    .dataframe tbody tr th {\n",
              "        vertical-align: top;\n",
              "    }\n",
              "\n",
              "    .dataframe thead th {\n",
              "        text-align: right;\n",
              "    }\n",
              "</style>\n",
              "<table border=\"1\" class=\"dataframe\">\n",
              "  <thead>\n",
              "    <tr style=\"text-align: right;\">\n",
              "      <th></th>\n",
              "      <th>id</th>\n",
              "      <th>title</th>\n",
              "      <th>url</th>\n",
              "      <th>is_paid</th>\n",
              "      <th>num_subscribers</th>\n",
              "      <th>avg_rating</th>\n",
              "      <th>avg_rating_recent</th>\n",
              "      <th>rating</th>\n",
              "      <th>num_reviews</th>\n",
              "      <th>is_wishlisted</th>\n",
              "      <th>num_published_lectures</th>\n",
              "      <th>num_published_practice_tests</th>\n",
              "      <th>created</th>\n",
              "      <th>published_time</th>\n",
              "      <th>discount_price__amount</th>\n",
              "      <th>discount_price__currency</th>\n",
              "      <th>discount_price__price_string</th>\n",
              "      <th>price_detail__amount</th>\n",
              "      <th>price_detail__currency</th>\n",
              "      <th>price_detail__price_string</th>\n",
              "    </tr>\n",
              "  </thead>\n",
              "  <tbody>\n",
              "    <tr>\n",
              "      <th>0</th>\n",
              "      <td>762616</td>\n",
              "      <td>The Complete SQL Bootcamp 2020: Go from Zero t...</td>\n",
              "      <td>/course/the-complete-sql-bootcamp/</td>\n",
              "      <td>True</td>\n",
              "      <td>295509</td>\n",
              "      <td>4.66019</td>\n",
              "      <td>4.67874</td>\n",
              "      <td>4.67874</td>\n",
              "      <td>78006</td>\n",
              "      <td>False</td>\n",
              "      <td>84</td>\n",
              "      <td>0</td>\n",
              "      <td>2016-02-14T22:57:48Z</td>\n",
              "      <td>2016-04-06T05:16:11Z</td>\n",
              "      <td>455.0</td>\n",
              "      <td>INR</td>\n",
              "      <td>₹455</td>\n",
              "      <td>8640</td>\n",
              "      <td>INR</td>\n",
              "      <td>₹8,640</td>\n",
              "    </tr>\n",
              "    <tr>\n",
              "      <th>1</th>\n",
              "      <td>937678</td>\n",
              "      <td>Tableau 2020 A-Z: Hands-On Tableau Training fo...</td>\n",
              "      <td>/course/tableau10/</td>\n",
              "      <td>True</td>\n",
              "      <td>209070</td>\n",
              "      <td>4.58956</td>\n",
              "      <td>4.60015</td>\n",
              "      <td>4.60015</td>\n",
              "      <td>54581</td>\n",
              "      <td>False</td>\n",
              "      <td>78</td>\n",
              "      <td>0</td>\n",
              "      <td>2016-08-22T12:10:18Z</td>\n",
              "      <td>2016-08-23T16:59:49Z</td>\n",
              "      <td>455.0</td>\n",
              "      <td>INR</td>\n",
              "      <td>₹455</td>\n",
              "      <td>8640</td>\n",
              "      <td>INR</td>\n",
              "      <td>₹8,640</td>\n",
              "    </tr>\n",
              "    <tr>\n",
              "      <th>2</th>\n",
              "      <td>1361790</td>\n",
              "      <td>PMP Exam Prep Seminar -  PMBOK Guide 6</td>\n",
              "      <td>/course/pmp-pmbok6-35-pdus/</td>\n",
              "      <td>True</td>\n",
              "      <td>155282</td>\n",
              "      <td>4.59491</td>\n",
              "      <td>4.59326</td>\n",
              "      <td>4.59326</td>\n",
              "      <td>52653</td>\n",
              "      <td>False</td>\n",
              "      <td>292</td>\n",
              "      <td>2</td>\n",
              "      <td>2017-09-26T16:32:48Z</td>\n",
              "      <td>2017-11-14T23:58:14Z</td>\n",
              "      <td>455.0</td>\n",
              "      <td>INR</td>\n",
              "      <td>₹455</td>\n",
              "      <td>8640</td>\n",
              "      <td>INR</td>\n",
              "      <td>₹8,640</td>\n",
              "    </tr>\n",
              "    <tr>\n",
              "      <th>3</th>\n",
              "      <td>648826</td>\n",
              "      <td>The Complete Financial Analyst Course 2020</td>\n",
              "      <td>/course/the-complete-financial-analyst-course/</td>\n",
              "      <td>True</td>\n",
              "      <td>245860</td>\n",
              "      <td>4.54407</td>\n",
              "      <td>4.53772</td>\n",
              "      <td>4.53772</td>\n",
              "      <td>46447</td>\n",
              "      <td>False</td>\n",
              "      <td>338</td>\n",
              "      <td>0</td>\n",
              "      <td>2015-10-23T13:34:35Z</td>\n",
              "      <td>2016-01-21T01:38:48Z</td>\n",
              "      <td>455.0</td>\n",
              "      <td>INR</td>\n",
              "      <td>₹455</td>\n",
              "      <td>8640</td>\n",
              "      <td>INR</td>\n",
              "      <td>₹8,640</td>\n",
              "    </tr>\n",
              "    <tr>\n",
              "      <th>4</th>\n",
              "      <td>637930</td>\n",
              "      <td>An Entire MBA in 1 Course:Award Winning Busine...</td>\n",
              "      <td>/course/an-entire-mba-in-1-courseaward-winning...</td>\n",
              "      <td>True</td>\n",
              "      <td>374836</td>\n",
              "      <td>4.47080</td>\n",
              "      <td>4.47173</td>\n",
              "      <td>4.47173</td>\n",
              "      <td>41630</td>\n",
              "      <td>False</td>\n",
              "      <td>83</td>\n",
              "      <td>0</td>\n",
              "      <td>2015-10-12T06:39:46Z</td>\n",
              "      <td>2016-01-11T21:39:33Z</td>\n",
              "      <td>455.0</td>\n",
              "      <td>INR</td>\n",
              "      <td>₹455</td>\n",
              "      <td>8640</td>\n",
              "      <td>INR</td>\n",
              "      <td>₹8,640</td>\n",
              "    </tr>\n",
              "  </tbody>\n",
              "</table>\n",
              "</div>\n",
              "      <button class=\"colab-df-convert\" onclick=\"convertToInteractive('df-a55e76a1-e1a2-43e1-a8f8-94dc6a14a294')\"\n",
              "              title=\"Convert this dataframe to an interactive table.\"\n",
              "              style=\"display:none;\">\n",
              "        \n",
              "  <svg xmlns=\"http://www.w3.org/2000/svg\" height=\"24px\"viewBox=\"0 0 24 24\"\n",
              "       width=\"24px\">\n",
              "    <path d=\"M0 0h24v24H0V0z\" fill=\"none\"/>\n",
              "    <path d=\"M18.56 5.44l.94 2.06.94-2.06 2.06-.94-2.06-.94-.94-2.06-.94 2.06-2.06.94zm-11 1L8.5 8.5l.94-2.06 2.06-.94-2.06-.94L8.5 2.5l-.94 2.06-2.06.94zm10 10l.94 2.06.94-2.06 2.06-.94-2.06-.94-.94-2.06-.94 2.06-2.06.94z\"/><path d=\"M17.41 7.96l-1.37-1.37c-.4-.4-.92-.59-1.43-.59-.52 0-1.04.2-1.43.59L10.3 9.45l-7.72 7.72c-.78.78-.78 2.05 0 2.83L4 21.41c.39.39.9.59 1.41.59.51 0 1.02-.2 1.41-.59l7.78-7.78 2.81-2.81c.8-.78.8-2.07 0-2.86zM5.41 20L4 18.59l7.72-7.72 1.47 1.35L5.41 20z\"/>\n",
              "  </svg>\n",
              "      </button>\n",
              "      \n",
              "  <style>\n",
              "    .colab-df-container {\n",
              "      display:flex;\n",
              "      flex-wrap:wrap;\n",
              "      gap: 12px;\n",
              "    }\n",
              "\n",
              "    .colab-df-convert {\n",
              "      background-color: #E8F0FE;\n",
              "      border: none;\n",
              "      border-radius: 50%;\n",
              "      cursor: pointer;\n",
              "      display: none;\n",
              "      fill: #1967D2;\n",
              "      height: 32px;\n",
              "      padding: 0 0 0 0;\n",
              "      width: 32px;\n",
              "    }\n",
              "\n",
              "    .colab-df-convert:hover {\n",
              "      background-color: #E2EBFA;\n",
              "      box-shadow: 0px 1px 2px rgba(60, 64, 67, 0.3), 0px 1px 3px 1px rgba(60, 64, 67, 0.15);\n",
              "      fill: #174EA6;\n",
              "    }\n",
              "\n",
              "    [theme=dark] .colab-df-convert {\n",
              "      background-color: #3B4455;\n",
              "      fill: #D2E3FC;\n",
              "    }\n",
              "\n",
              "    [theme=dark] .colab-df-convert:hover {\n",
              "      background-color: #434B5C;\n",
              "      box-shadow: 0px 1px 3px 1px rgba(0, 0, 0, 0.15);\n",
              "      filter: drop-shadow(0px 1px 2px rgba(0, 0, 0, 0.3));\n",
              "      fill: #FFFFFF;\n",
              "    }\n",
              "  </style>\n",
              "\n",
              "      <script>\n",
              "        const buttonEl =\n",
              "          document.querySelector('#df-a55e76a1-e1a2-43e1-a8f8-94dc6a14a294 button.colab-df-convert');\n",
              "        buttonEl.style.display =\n",
              "          google.colab.kernel.accessAllowed ? 'block' : 'none';\n",
              "\n",
              "        async function convertToInteractive(key) {\n",
              "          const element = document.querySelector('#df-a55e76a1-e1a2-43e1-a8f8-94dc6a14a294');\n",
              "          const dataTable =\n",
              "            await google.colab.kernel.invokeFunction('convertToInteractive',\n",
              "                                                     [key], {});\n",
              "          if (!dataTable) return;\n",
              "\n",
              "          const docLinkHtml = 'Like what you see? Visit the ' +\n",
              "            '<a target=\"_blank\" href=https://colab.research.google.com/notebooks/data_table.ipynb>data table notebook</a>'\n",
              "            + ' to learn more about interactive tables.';\n",
              "          element.innerHTML = '';\n",
              "          dataTable['output_type'] = 'display_data';\n",
              "          await google.colab.output.renderOutput(dataTable, element);\n",
              "          const docLink = document.createElement('div');\n",
              "          docLink.innerHTML = docLinkHtml;\n",
              "          element.appendChild(docLink);\n",
              "        }\n",
              "      </script>\n",
              "    </div>\n",
              "  </div>\n",
              "  "
            ]
          },
          "metadata": {},
          "execution_count": 3
        }
      ],
      "source": [
        "df.head()"
      ]
    },
    {
      "cell_type": "code",
      "execution_count": null,
      "id": "6b265a99",
      "metadata": {
        "colab": {
          "base_uri": "https://localhost:8080/"
        },
        "id": "6b265a99",
        "outputId": "b9fac975-3c07-4f6e-b3ee-513b6e8fe716"
      },
      "outputs": [
        {
          "output_type": "execute_result",
          "data": {
            "text/plain": [
              "(9447, 20)"
            ]
          },
          "metadata": {},
          "execution_count": 4
        }
      ],
      "source": [
        "df.shape"
      ]
    },
    {
      "cell_type": "code",
      "execution_count": null,
      "id": "104d4f57",
      "metadata": {
        "colab": {
          "base_uri": "https://localhost:8080/"
        },
        "id": "104d4f57",
        "outputId": "1901a10c-6712-4afd-ac39-b7e9097c2f8e"
      },
      "outputs": [
        {
          "output_type": "execute_result",
          "data": {
            "text/plain": [
              "Index(['id', 'title', 'url', 'is_paid', 'num_subscribers', 'avg_rating',\n",
              "       'avg_rating_recent', 'rating', 'num_reviews', 'is_wishlisted',\n",
              "       'num_published_lectures', 'num_published_practice_tests', 'created',\n",
              "       'published_time', 'discount_price__amount', 'discount_price__currency',\n",
              "       'discount_price__price_string', 'price_detail__amount',\n",
              "       'price_detail__currency', 'price_detail__price_string'],\n",
              "      dtype='object')"
            ]
          },
          "metadata": {},
          "execution_count": 5
        }
      ],
      "source": [
        "df.columns"
      ]
    },
    {
      "cell_type": "code",
      "execution_count": null,
      "id": "87b54149",
      "metadata": {
        "colab": {
          "base_uri": "https://localhost:8080/"
        },
        "id": "87b54149",
        "outputId": "67f4d88c-c7b8-4d59-ef19-1ce6dcd8b096"
      },
      "outputs": [
        {
          "output_type": "stream",
          "name": "stdout",
          "text": [
            "<class 'pandas.core.frame.DataFrame'>\n",
            "RangeIndex: 9447 entries, 0 to 9446\n",
            "Data columns (total 20 columns):\n",
            " #   Column                        Non-Null Count  Dtype  \n",
            "---  ------                        --------------  -----  \n",
            " 0   id                            9447 non-null   int64  \n",
            " 1   title                         9447 non-null   object \n",
            " 2   url                           9447 non-null   object \n",
            " 3   is_paid                       9447 non-null   bool   \n",
            " 4   num_subscribers               9447 non-null   int64  \n",
            " 5   avg_rating                    9447 non-null   float64\n",
            " 6   avg_rating_recent             9447 non-null   float64\n",
            " 7   rating                        9447 non-null   float64\n",
            " 8   num_reviews                   9447 non-null   int64  \n",
            " 9   is_wishlisted                 9447 non-null   bool   \n",
            " 10  num_published_lectures        9447 non-null   int64  \n",
            " 11  num_published_practice_tests  9447 non-null   int64  \n",
            " 12  created                       9447 non-null   object \n",
            " 13  published_time                9447 non-null   object \n",
            " 14  discount_price__amount        8937 non-null   float64\n",
            " 15  discount_price__currency      8937 non-null   object \n",
            " 16  discount_price__price_string  8937 non-null   object \n",
            " 17  price_detail__amount          9447 non-null   int64  \n",
            " 18  price_detail__currency        9447 non-null   object \n",
            " 19  price_detail__price_string    9447 non-null   object \n",
            "dtypes: bool(2), float64(4), int64(6), object(8)\n",
            "memory usage: 1.3+ MB\n"
          ]
        }
      ],
      "source": [
        "df.info()"
      ]
    },
    {
      "cell_type": "markdown",
      "source": [
        "Check Null Values"
      ],
      "metadata": {
        "id": "TKyIcqVyW3MU"
      },
      "id": "TKyIcqVyW3MU"
    },
    {
      "cell_type": "code",
      "execution_count": null,
      "id": "6c843dac",
      "metadata": {
        "colab": {
          "base_uri": "https://localhost:8080/"
        },
        "id": "6c843dac",
        "outputId": "175560c9-989e-4770-8507-43bac066ecaa"
      },
      "outputs": [
        {
          "output_type": "execute_result",
          "data": {
            "text/plain": [
              "id                                0\n",
              "title                             0\n",
              "url                               0\n",
              "is_paid                           0\n",
              "num_subscribers                   0\n",
              "avg_rating                        0\n",
              "avg_rating_recent                 0\n",
              "rating                            0\n",
              "num_reviews                       0\n",
              "is_wishlisted                     0\n",
              "num_published_lectures            0\n",
              "num_published_practice_tests      0\n",
              "created                           0\n",
              "published_time                    0\n",
              "discount_price__amount          510\n",
              "discount_price__currency        510\n",
              "discount_price__price_string    510\n",
              "price_detail__amount              0\n",
              "price_detail__currency            0\n",
              "price_detail__price_string        0\n",
              "dtype: int64"
            ]
          },
          "metadata": {},
          "execution_count": 7
        }
      ],
      "source": [
        "df.isnull().sum()"
      ]
    },
    {
      "cell_type": "code",
      "execution_count": null,
      "id": "f5b0b719",
      "metadata": {
        "id": "f5b0b719"
      },
      "outputs": [],
      "source": [
        "df.dropna(inplace=True)"
      ]
    },
    {
      "cell_type": "code",
      "execution_count": null,
      "id": "33a5e42e",
      "metadata": {
        "colab": {
          "base_uri": "https://localhost:8080/"
        },
        "id": "33a5e42e",
        "outputId": "7e2d493d-8e0e-4aee-bf0e-b1d2e883fc4e"
      },
      "outputs": [
        {
          "output_type": "execute_result",
          "data": {
            "text/plain": [
              "id                              0\n",
              "title                           0\n",
              "url                             0\n",
              "is_paid                         0\n",
              "num_subscribers                 0\n",
              "avg_rating                      0\n",
              "avg_rating_recent               0\n",
              "rating                          0\n",
              "num_reviews                     0\n",
              "is_wishlisted                   0\n",
              "num_published_lectures          0\n",
              "num_published_practice_tests    0\n",
              "created                         0\n",
              "published_time                  0\n",
              "discount_price__amount          0\n",
              "discount_price__currency        0\n",
              "discount_price__price_string    0\n",
              "price_detail__amount            0\n",
              "price_detail__currency          0\n",
              "price_detail__price_string      0\n",
              "dtype: int64"
            ]
          },
          "metadata": {},
          "execution_count": 9
        }
      ],
      "source": [
        "df.isnull().sum()"
      ]
    },
    {
      "cell_type": "markdown",
      "source": [
        "Statistical Describe Dataset"
      ],
      "metadata": {
        "id": "lFXUh-0wW9gy"
      },
      "id": "lFXUh-0wW9gy"
    },
    {
      "cell_type": "code",
      "execution_count": null,
      "id": "f8c67424",
      "metadata": {
        "colab": {
          "base_uri": "https://localhost:8080/",
          "height": 364
        },
        "id": "f8c67424",
        "outputId": "a7cbe4c8-b3ea-4744-e20b-520b97714abd"
      },
      "outputs": [
        {
          "output_type": "execute_result",
          "data": {
            "text/plain": [
              "                 id  num_subscribers   avg_rating  avg_rating_recent  \\\n",
              "count  8.937000e+03      8937.000000  8937.000000        8937.000000   \n",
              "mean   1.467743e+06      3500.211592     4.131339           4.117315   \n",
              "std    8.898654e+05     10690.869699     0.454594           0.479444   \n",
              "min    2.762000e+03         3.000000     1.000000           1.000000   \n",
              "25%    6.922680e+05       151.000000     3.900000           3.872860   \n",
              "50%    1.394594e+06       969.000000     4.200000           4.199900   \n",
              "75%    2.163746e+06      3004.000000     4.450000           4.441310   \n",
              "max    3.469452e+06    374836.000000     5.000000           5.000000   \n",
              "\n",
              "            rating   num_reviews  num_published_lectures  \\\n",
              "count  8937.000000   8937.000000             8937.000000   \n",
              "mean      4.117315    302.236768               34.320354   \n",
              "std       0.479444   1864.753096               45.659842   \n",
              "min       1.000000      3.000000                0.000000   \n",
              "25%       3.872860     12.000000               13.000000   \n",
              "50%       4.199900     33.000000               23.000000   \n",
              "75%       4.441310    111.000000               39.000000   \n",
              "max       5.000000  78006.000000              699.000000   \n",
              "\n",
              "       num_published_practice_tests  discount_price__amount  \\\n",
              "count                   8937.000000             8937.000000   \n",
              "mean                       0.103502              488.984111   \n",
              "std                        0.586828              247.833161   \n",
              "min                        0.000000              455.000000   \n",
              "25%                        0.000000              455.000000   \n",
              "50%                        0.000000              455.000000   \n",
              "75%                        0.000000              455.000000   \n",
              "max                        6.000000             3200.000000   \n",
              "\n",
              "       price_detail__amount  \n",
              "count           8937.000000  \n",
              "mean            4789.902652  \n",
              "std             3037.366058  \n",
              "min             1280.000000  \n",
              "25%             1600.000000  \n",
              "50%             3840.000000  \n",
              "75%             8640.000000  \n",
              "max            11520.000000  "
            ],
            "text/html": [
              "\n",
              "  <div id=\"df-b73aa5a3-e32d-4ebb-ab4f-8755b1e116ce\">\n",
              "    <div class=\"colab-df-container\">\n",
              "      <div>\n",
              "<style scoped>\n",
              "    .dataframe tbody tr th:only-of-type {\n",
              "        vertical-align: middle;\n",
              "    }\n",
              "\n",
              "    .dataframe tbody tr th {\n",
              "        vertical-align: top;\n",
              "    }\n",
              "\n",
              "    .dataframe thead th {\n",
              "        text-align: right;\n",
              "    }\n",
              "</style>\n",
              "<table border=\"1\" class=\"dataframe\">\n",
              "  <thead>\n",
              "    <tr style=\"text-align: right;\">\n",
              "      <th></th>\n",
              "      <th>id</th>\n",
              "      <th>num_subscribers</th>\n",
              "      <th>avg_rating</th>\n",
              "      <th>avg_rating_recent</th>\n",
              "      <th>rating</th>\n",
              "      <th>num_reviews</th>\n",
              "      <th>num_published_lectures</th>\n",
              "      <th>num_published_practice_tests</th>\n",
              "      <th>discount_price__amount</th>\n",
              "      <th>price_detail__amount</th>\n",
              "    </tr>\n",
              "  </thead>\n",
              "  <tbody>\n",
              "    <tr>\n",
              "      <th>count</th>\n",
              "      <td>8.937000e+03</td>\n",
              "      <td>8937.000000</td>\n",
              "      <td>8937.000000</td>\n",
              "      <td>8937.000000</td>\n",
              "      <td>8937.000000</td>\n",
              "      <td>8937.000000</td>\n",
              "      <td>8937.000000</td>\n",
              "      <td>8937.000000</td>\n",
              "      <td>8937.000000</td>\n",
              "      <td>8937.000000</td>\n",
              "    </tr>\n",
              "    <tr>\n",
              "      <th>mean</th>\n",
              "      <td>1.467743e+06</td>\n",
              "      <td>3500.211592</td>\n",
              "      <td>4.131339</td>\n",
              "      <td>4.117315</td>\n",
              "      <td>4.117315</td>\n",
              "      <td>302.236768</td>\n",
              "      <td>34.320354</td>\n",
              "      <td>0.103502</td>\n",
              "      <td>488.984111</td>\n",
              "      <td>4789.902652</td>\n",
              "    </tr>\n",
              "    <tr>\n",
              "      <th>std</th>\n",
              "      <td>8.898654e+05</td>\n",
              "      <td>10690.869699</td>\n",
              "      <td>0.454594</td>\n",
              "      <td>0.479444</td>\n",
              "      <td>0.479444</td>\n",
              "      <td>1864.753096</td>\n",
              "      <td>45.659842</td>\n",
              "      <td>0.586828</td>\n",
              "      <td>247.833161</td>\n",
              "      <td>3037.366058</td>\n",
              "    </tr>\n",
              "    <tr>\n",
              "      <th>min</th>\n",
              "      <td>2.762000e+03</td>\n",
              "      <td>3.000000</td>\n",
              "      <td>1.000000</td>\n",
              "      <td>1.000000</td>\n",
              "      <td>1.000000</td>\n",
              "      <td>3.000000</td>\n",
              "      <td>0.000000</td>\n",
              "      <td>0.000000</td>\n",
              "      <td>455.000000</td>\n",
              "      <td>1280.000000</td>\n",
              "    </tr>\n",
              "    <tr>\n",
              "      <th>25%</th>\n",
              "      <td>6.922680e+05</td>\n",
              "      <td>151.000000</td>\n",
              "      <td>3.900000</td>\n",
              "      <td>3.872860</td>\n",
              "      <td>3.872860</td>\n",
              "      <td>12.000000</td>\n",
              "      <td>13.000000</td>\n",
              "      <td>0.000000</td>\n",
              "      <td>455.000000</td>\n",
              "      <td>1600.000000</td>\n",
              "    </tr>\n",
              "    <tr>\n",
              "      <th>50%</th>\n",
              "      <td>1.394594e+06</td>\n",
              "      <td>969.000000</td>\n",
              "      <td>4.200000</td>\n",
              "      <td>4.199900</td>\n",
              "      <td>4.199900</td>\n",
              "      <td>33.000000</td>\n",
              "      <td>23.000000</td>\n",
              "      <td>0.000000</td>\n",
              "      <td>455.000000</td>\n",
              "      <td>3840.000000</td>\n",
              "    </tr>\n",
              "    <tr>\n",
              "      <th>75%</th>\n",
              "      <td>2.163746e+06</td>\n",
              "      <td>3004.000000</td>\n",
              "      <td>4.450000</td>\n",
              "      <td>4.441310</td>\n",
              "      <td>4.441310</td>\n",
              "      <td>111.000000</td>\n",
              "      <td>39.000000</td>\n",
              "      <td>0.000000</td>\n",
              "      <td>455.000000</td>\n",
              "      <td>8640.000000</td>\n",
              "    </tr>\n",
              "    <tr>\n",
              "      <th>max</th>\n",
              "      <td>3.469452e+06</td>\n",
              "      <td>374836.000000</td>\n",
              "      <td>5.000000</td>\n",
              "      <td>5.000000</td>\n",
              "      <td>5.000000</td>\n",
              "      <td>78006.000000</td>\n",
              "      <td>699.000000</td>\n",
              "      <td>6.000000</td>\n",
              "      <td>3200.000000</td>\n",
              "      <td>11520.000000</td>\n",
              "    </tr>\n",
              "  </tbody>\n",
              "</table>\n",
              "</div>\n",
              "      <button class=\"colab-df-convert\" onclick=\"convertToInteractive('df-b73aa5a3-e32d-4ebb-ab4f-8755b1e116ce')\"\n",
              "              title=\"Convert this dataframe to an interactive table.\"\n",
              "              style=\"display:none;\">\n",
              "        \n",
              "  <svg xmlns=\"http://www.w3.org/2000/svg\" height=\"24px\"viewBox=\"0 0 24 24\"\n",
              "       width=\"24px\">\n",
              "    <path d=\"M0 0h24v24H0V0z\" fill=\"none\"/>\n",
              "    <path d=\"M18.56 5.44l.94 2.06.94-2.06 2.06-.94-2.06-.94-.94-2.06-.94 2.06-2.06.94zm-11 1L8.5 8.5l.94-2.06 2.06-.94-2.06-.94L8.5 2.5l-.94 2.06-2.06.94zm10 10l.94 2.06.94-2.06 2.06-.94-2.06-.94-.94-2.06-.94 2.06-2.06.94z\"/><path d=\"M17.41 7.96l-1.37-1.37c-.4-.4-.92-.59-1.43-.59-.52 0-1.04.2-1.43.59L10.3 9.45l-7.72 7.72c-.78.78-.78 2.05 0 2.83L4 21.41c.39.39.9.59 1.41.59.51 0 1.02-.2 1.41-.59l7.78-7.78 2.81-2.81c.8-.78.8-2.07 0-2.86zM5.41 20L4 18.59l7.72-7.72 1.47 1.35L5.41 20z\"/>\n",
              "  </svg>\n",
              "      </button>\n",
              "      \n",
              "  <style>\n",
              "    .colab-df-container {\n",
              "      display:flex;\n",
              "      flex-wrap:wrap;\n",
              "      gap: 12px;\n",
              "    }\n",
              "\n",
              "    .colab-df-convert {\n",
              "      background-color: #E8F0FE;\n",
              "      border: none;\n",
              "      border-radius: 50%;\n",
              "      cursor: pointer;\n",
              "      display: none;\n",
              "      fill: #1967D2;\n",
              "      height: 32px;\n",
              "      padding: 0 0 0 0;\n",
              "      width: 32px;\n",
              "    }\n",
              "\n",
              "    .colab-df-convert:hover {\n",
              "      background-color: #E2EBFA;\n",
              "      box-shadow: 0px 1px 2px rgba(60, 64, 67, 0.3), 0px 1px 3px 1px rgba(60, 64, 67, 0.15);\n",
              "      fill: #174EA6;\n",
              "    }\n",
              "\n",
              "    [theme=dark] .colab-df-convert {\n",
              "      background-color: #3B4455;\n",
              "      fill: #D2E3FC;\n",
              "    }\n",
              "\n",
              "    [theme=dark] .colab-df-convert:hover {\n",
              "      background-color: #434B5C;\n",
              "      box-shadow: 0px 1px 3px 1px rgba(0, 0, 0, 0.15);\n",
              "      filter: drop-shadow(0px 1px 2px rgba(0, 0, 0, 0.3));\n",
              "      fill: #FFFFFF;\n",
              "    }\n",
              "  </style>\n",
              "\n",
              "      <script>\n",
              "        const buttonEl =\n",
              "          document.querySelector('#df-b73aa5a3-e32d-4ebb-ab4f-8755b1e116ce button.colab-df-convert');\n",
              "        buttonEl.style.display =\n",
              "          google.colab.kernel.accessAllowed ? 'block' : 'none';\n",
              "\n",
              "        async function convertToInteractive(key) {\n",
              "          const element = document.querySelector('#df-b73aa5a3-e32d-4ebb-ab4f-8755b1e116ce');\n",
              "          const dataTable =\n",
              "            await google.colab.kernel.invokeFunction('convertToInteractive',\n",
              "                                                     [key], {});\n",
              "          if (!dataTable) return;\n",
              "\n",
              "          const docLinkHtml = 'Like what you see? Visit the ' +\n",
              "            '<a target=\"_blank\" href=https://colab.research.google.com/notebooks/data_table.ipynb>data table notebook</a>'\n",
              "            + ' to learn more about interactive tables.';\n",
              "          element.innerHTML = '';\n",
              "          dataTable['output_type'] = 'display_data';\n",
              "          await google.colab.output.renderOutput(dataTable, element);\n",
              "          const docLink = document.createElement('div');\n",
              "          docLink.innerHTML = docLinkHtml;\n",
              "          element.appendChild(docLink);\n",
              "        }\n",
              "      </script>\n",
              "    </div>\n",
              "  </div>\n",
              "  "
            ]
          },
          "metadata": {},
          "execution_count": 10
        }
      ],
      "source": [
        "df.describe()"
      ]
    },
    {
      "cell_type": "markdown",
      "source": [
        "Checking Unique Columns or Unwanted values"
      ],
      "metadata": {
        "id": "ZyNJ60rMXC_x"
      },
      "id": "ZyNJ60rMXC_x"
    },
    {
      "cell_type": "code",
      "execution_count": null,
      "id": "8fbe0071",
      "metadata": {
        "colab": {
          "base_uri": "https://localhost:8080/"
        },
        "id": "8fbe0071",
        "outputId": "d1f7ef87-6669-4b79-e987-322b1992e335"
      },
      "outputs": [
        {
          "output_type": "stream",
          "name": "stdout",
          "text": [
            "id:[ 762616  937678 1361790 ... 1964000 2769588 2801192]\n",
            "title:['The Complete SQL Bootcamp 2020: Go from Zero to Hero'\n",
            " 'Tableau 2020 A-Z: Hands-On Tableau Training for Data Science'\n",
            " 'PMP Exam Prep Seminar -  PMBOK Guide 6' ...\n",
            " 'Leadership Development:Ready To Use Tools to lead Your Team'\n",
            " 'Business Efficiency: How To Increase Workplace Productivity'\n",
            " 'How to enter the US market?']\n",
            "url:['/course/the-complete-sql-bootcamp/' '/course/tableau10/'\n",
            " '/course/pmp-pmbok6-35-pdus/' ...\n",
            " '/course/leadership-development-how-to-lead-your-team/'\n",
            " '/course/business-efficiency-how-to-increase-workplace-productivity/'\n",
            " '/course/how-to-enter-the-us-market/']\n",
            "is_paid:[ True]\n",
            "num_subscribers:[295509 209070 155282 ...    786   3289   1716]\n",
            "avg_rating:[4.66019 4.58956 4.59491 ... 1.66667 1.      2.16667]\n",
            "avg_rating_recent:[4.67874 4.60015 4.59326 ... 2.16014 3.88844 3.52632]\n",
            "rating:[4.67874 4.60015 4.59326 ... 2.16014 3.88844 3.52632]\n",
            "num_reviews:[78006 54581 52653 ...     5     4     3]\n",
            "is_wishlisted:[False]\n",
            "num_published_lectures:[ 84  78 292 338  83 275  23 144 413 117  67  43  41 286 225 101 160 103\n",
            "  47 111  57  61  44  88  39  31  49  74 124  29 206 284  86 600  16  97\n",
            "  15  19 152  38 186 305  87  35 222  68  81   6  42  54  18  48  30 637\n",
            " 208 127  32  65  21 122  53  96  90  58  26  99 125  91  66 257  75  45\n",
            "  85  71  24  11  76 398  37  40 114  56  62  55  22  51 369 165  36  25\n",
            " 120 247 135  46   5  77  34  12  17  27  20  33  69 213  64 244  28  14\n",
            "  13 252 123  50   9  93  79  60  52 126  63 142 493 601 155 154 217 202\n",
            " 253  59 105  73  10 141 109  70 267 102 137  92  80 561 136 328 505  98\n",
            "  72 431 190 104 149 229 107 699 184  89 119 668 280   8  95 112 129 133\n",
            "   0 373 143 232 157 358 291 131 132 174   7 187 100 228 469 266  82 199\n",
            " 241 113 204 164 372 115 215 194 329 172 118 525 185 128 463 548 432 235\n",
            " 110 116 139 161 205 150 255 556 171 145 395 134 446  94 106 355 379 121\n",
            " 182 576 162 189 192 374   4 108 179 151 531 444 211 263 314 156 278 181\n",
            " 177 551 140 130 458 212 270 249 316 148 158 195 153 191 377 166 513 210\n",
            " 159 219 313 262 175 265 437 233   1 294 173 180 240 197 360 207 138 214]\n",
            "num_published_practice_tests:[0 2 1 5 3 6 4]\n",
            "created:['2016-02-14T22:57:48Z' '2016-08-22T12:10:18Z' '2017-09-26T16:32:48Z' ...\n",
            " '2018-10-13T10:03:33Z' '2020-01-20T18:10:33Z' '2020-02-07T06:16:29Z']\n",
            "published_time:['2016-04-06T05:16:11Z' '2016-08-23T16:59:49Z' '2017-11-14T23:58:14Z' ...\n",
            " '2018-10-27T21:50:36Z' '2020-01-21T16:25:32Z' '2020-02-11T22:10:35Z']\n",
            "discount_price__amount:[ 455.  500.  540.  546.  481.  488.  474.  462. 2880.  494. 1600.  800.\n",
            " 2080.  520.  468.  700.  514.  552.  640. 3200.  960.  507. 2720. 1920.\n",
            " 1680.  611. 2400.  720. 1280.  533. 2000. 2240. 3040. 2160. 1360. 1760.\n",
            " 2480. 1120. 1520. 1440.  480. 2320. 1200. 2560. 1840. 2800. 2960.  560.]\n",
            "discount_price__currency:['INR']\n",
            "discount_price__price_string:['₹455' '₹500' '₹540' '₹546' '₹481' '₹488' '₹474' '₹462' '₹2,880' '₹494'\n",
            " '₹1,600' '₹800' '₹2,080' '₹520' '₹468' '₹700' '₹514' '₹552' '₹640'\n",
            " '₹3,200' '₹960' '₹507' '₹2,720' '₹1,920' '₹1,680' '₹611' '₹2,400' '₹720'\n",
            " '₹1,280' '₹533' '₹2,000' '₹2,240' '₹3,040' '₹2,160' '₹1,360' '₹1,760'\n",
            " '₹2,480' '₹1,120' '₹1,520' '₹1,440' '₹480' '₹2,320' '₹1,200' '₹2,560'\n",
            " '₹1,840' '₹2,800' '₹2,960' '₹560']\n",
            "price_detail__amount:[ 8640  5760  1280  9280  2560  4800  6720  1920 10240  2240  8960  6400\n",
            "  7040  3200  7680  2880  4480  5440  1600  6080  3520  8320  7360  9600\n",
            "  4160  8000  3840  5120 11520  9920]\n",
            "price_detail__currency:['INR']\n",
            "price_detail__price_string:['₹8,640' '₹5,760' '₹1,280' '₹9,280' '₹2,560' '₹4,800' '₹6,720' '₹1,920'\n",
            " '₹10,240' '₹2,240' '₹8,960' '₹6,400' '₹7,040' '₹3,200' '₹7,680' '₹2,880'\n",
            " '₹4,480' '₹5,440' '₹1,600' '₹6,080' '₹3,520' '₹8,320' '₹7,360' '₹9,600'\n",
            " '₹4,160' '₹8,000' '₹3,840' '₹5,120' '₹11,520' '₹9,920']\n"
          ]
        }
      ],
      "source": [
        "#Checking for wrong entries like symbols -,?,#,*,etc.\n",
        "for col in df.columns:\n",
        "    print('{}:{}'.format(col,df[col].unique()))"
      ]
    },
    {
      "cell_type": "markdown",
      "source": [
        "Features Selection"
      ],
      "metadata": {
        "id": "7s-T06YgXTQq"
      },
      "id": "7s-T06YgXTQq"
    },
    {
      "cell_type": "code",
      "execution_count": null,
      "id": "c3030d88",
      "metadata": {
        "id": "c3030d88"
      },
      "outputs": [],
      "source": [
        "#removes unwanted columns from dataset \n",
        "df = df.drop(['price_detail__price_string','discount_price__price_string','discount_price__currency','price_detail__currency'],axis = 1)"
      ]
    },
    {
      "cell_type": "code",
      "execution_count": null,
      "id": "3ead2bb4",
      "metadata": {
        "colab": {
          "base_uri": "https://localhost:8080/",
          "height": 565
        },
        "id": "3ead2bb4",
        "outputId": "9ec8a2c1-5d85-45dc-d1a7-55d1a26d601b"
      },
      "outputs": [
        {
          "output_type": "execute_result",
          "data": {
            "text/plain": [
              "        id                                              title  \\\n",
              "0   762616  The Complete SQL Bootcamp 2020: Go from Zero t...   \n",
              "1   937678  Tableau 2020 A-Z: Hands-On Tableau Training fo...   \n",
              "2  1361790             PMP Exam Prep Seminar -  PMBOK Guide 6   \n",
              "3   648826         The Complete Financial Analyst Course 2020   \n",
              "4   637930  An Entire MBA in 1 Course:Award Winning Busine...   \n",
              "\n",
              "                                                 url  is_paid  \\\n",
              "0                 /course/the-complete-sql-bootcamp/     True   \n",
              "1                                 /course/tableau10/     True   \n",
              "2                        /course/pmp-pmbok6-35-pdus/     True   \n",
              "3     /course/the-complete-financial-analyst-course/     True   \n",
              "4  /course/an-entire-mba-in-1-courseaward-winning...     True   \n",
              "\n",
              "   num_subscribers  avg_rating  avg_rating_recent   rating  num_reviews  \\\n",
              "0           295509     4.66019            4.67874  4.67874        78006   \n",
              "1           209070     4.58956            4.60015  4.60015        54581   \n",
              "2           155282     4.59491            4.59326  4.59326        52653   \n",
              "3           245860     4.54407            4.53772  4.53772        46447   \n",
              "4           374836     4.47080            4.47173  4.47173        41630   \n",
              "\n",
              "   is_wishlisted  num_published_lectures  num_published_practice_tests  \\\n",
              "0          False                      84                             0   \n",
              "1          False                      78                             0   \n",
              "2          False                     292                             2   \n",
              "3          False                     338                             0   \n",
              "4          False                      83                             0   \n",
              "\n",
              "                created        published_time  discount_price__amount  \\\n",
              "0  2016-02-14T22:57:48Z  2016-04-06T05:16:11Z                   455.0   \n",
              "1  2016-08-22T12:10:18Z  2016-08-23T16:59:49Z                   455.0   \n",
              "2  2017-09-26T16:32:48Z  2017-11-14T23:58:14Z                   455.0   \n",
              "3  2015-10-23T13:34:35Z  2016-01-21T01:38:48Z                   455.0   \n",
              "4  2015-10-12T06:39:46Z  2016-01-11T21:39:33Z                   455.0   \n",
              "\n",
              "   price_detail__amount  \n",
              "0                  8640  \n",
              "1                  8640  \n",
              "2                  8640  \n",
              "3                  8640  \n",
              "4                  8640  "
            ],
            "text/html": [
              "\n",
              "  <div id=\"df-1182104d-f6d1-402c-a94d-4c2517662d71\">\n",
              "    <div class=\"colab-df-container\">\n",
              "      <div>\n",
              "<style scoped>\n",
              "    .dataframe tbody tr th:only-of-type {\n",
              "        vertical-align: middle;\n",
              "    }\n",
              "\n",
              "    .dataframe tbody tr th {\n",
              "        vertical-align: top;\n",
              "    }\n",
              "\n",
              "    .dataframe thead th {\n",
              "        text-align: right;\n",
              "    }\n",
              "</style>\n",
              "<table border=\"1\" class=\"dataframe\">\n",
              "  <thead>\n",
              "    <tr style=\"text-align: right;\">\n",
              "      <th></th>\n",
              "      <th>id</th>\n",
              "      <th>title</th>\n",
              "      <th>url</th>\n",
              "      <th>is_paid</th>\n",
              "      <th>num_subscribers</th>\n",
              "      <th>avg_rating</th>\n",
              "      <th>avg_rating_recent</th>\n",
              "      <th>rating</th>\n",
              "      <th>num_reviews</th>\n",
              "      <th>is_wishlisted</th>\n",
              "      <th>num_published_lectures</th>\n",
              "      <th>num_published_practice_tests</th>\n",
              "      <th>created</th>\n",
              "      <th>published_time</th>\n",
              "      <th>discount_price__amount</th>\n",
              "      <th>price_detail__amount</th>\n",
              "    </tr>\n",
              "  </thead>\n",
              "  <tbody>\n",
              "    <tr>\n",
              "      <th>0</th>\n",
              "      <td>762616</td>\n",
              "      <td>The Complete SQL Bootcamp 2020: Go from Zero t...</td>\n",
              "      <td>/course/the-complete-sql-bootcamp/</td>\n",
              "      <td>True</td>\n",
              "      <td>295509</td>\n",
              "      <td>4.66019</td>\n",
              "      <td>4.67874</td>\n",
              "      <td>4.67874</td>\n",
              "      <td>78006</td>\n",
              "      <td>False</td>\n",
              "      <td>84</td>\n",
              "      <td>0</td>\n",
              "      <td>2016-02-14T22:57:48Z</td>\n",
              "      <td>2016-04-06T05:16:11Z</td>\n",
              "      <td>455.0</td>\n",
              "      <td>8640</td>\n",
              "    </tr>\n",
              "    <tr>\n",
              "      <th>1</th>\n",
              "      <td>937678</td>\n",
              "      <td>Tableau 2020 A-Z: Hands-On Tableau Training fo...</td>\n",
              "      <td>/course/tableau10/</td>\n",
              "      <td>True</td>\n",
              "      <td>209070</td>\n",
              "      <td>4.58956</td>\n",
              "      <td>4.60015</td>\n",
              "      <td>4.60015</td>\n",
              "      <td>54581</td>\n",
              "      <td>False</td>\n",
              "      <td>78</td>\n",
              "      <td>0</td>\n",
              "      <td>2016-08-22T12:10:18Z</td>\n",
              "      <td>2016-08-23T16:59:49Z</td>\n",
              "      <td>455.0</td>\n",
              "      <td>8640</td>\n",
              "    </tr>\n",
              "    <tr>\n",
              "      <th>2</th>\n",
              "      <td>1361790</td>\n",
              "      <td>PMP Exam Prep Seminar -  PMBOK Guide 6</td>\n",
              "      <td>/course/pmp-pmbok6-35-pdus/</td>\n",
              "      <td>True</td>\n",
              "      <td>155282</td>\n",
              "      <td>4.59491</td>\n",
              "      <td>4.59326</td>\n",
              "      <td>4.59326</td>\n",
              "      <td>52653</td>\n",
              "      <td>False</td>\n",
              "      <td>292</td>\n",
              "      <td>2</td>\n",
              "      <td>2017-09-26T16:32:48Z</td>\n",
              "      <td>2017-11-14T23:58:14Z</td>\n",
              "      <td>455.0</td>\n",
              "      <td>8640</td>\n",
              "    </tr>\n",
              "    <tr>\n",
              "      <th>3</th>\n",
              "      <td>648826</td>\n",
              "      <td>The Complete Financial Analyst Course 2020</td>\n",
              "      <td>/course/the-complete-financial-analyst-course/</td>\n",
              "      <td>True</td>\n",
              "      <td>245860</td>\n",
              "      <td>4.54407</td>\n",
              "      <td>4.53772</td>\n",
              "      <td>4.53772</td>\n",
              "      <td>46447</td>\n",
              "      <td>False</td>\n",
              "      <td>338</td>\n",
              "      <td>0</td>\n",
              "      <td>2015-10-23T13:34:35Z</td>\n",
              "      <td>2016-01-21T01:38:48Z</td>\n",
              "      <td>455.0</td>\n",
              "      <td>8640</td>\n",
              "    </tr>\n",
              "    <tr>\n",
              "      <th>4</th>\n",
              "      <td>637930</td>\n",
              "      <td>An Entire MBA in 1 Course:Award Winning Busine...</td>\n",
              "      <td>/course/an-entire-mba-in-1-courseaward-winning...</td>\n",
              "      <td>True</td>\n",
              "      <td>374836</td>\n",
              "      <td>4.47080</td>\n",
              "      <td>4.47173</td>\n",
              "      <td>4.47173</td>\n",
              "      <td>41630</td>\n",
              "      <td>False</td>\n",
              "      <td>83</td>\n",
              "      <td>0</td>\n",
              "      <td>2015-10-12T06:39:46Z</td>\n",
              "      <td>2016-01-11T21:39:33Z</td>\n",
              "      <td>455.0</td>\n",
              "      <td>8640</td>\n",
              "    </tr>\n",
              "  </tbody>\n",
              "</table>\n",
              "</div>\n",
              "      <button class=\"colab-df-convert\" onclick=\"convertToInteractive('df-1182104d-f6d1-402c-a94d-4c2517662d71')\"\n",
              "              title=\"Convert this dataframe to an interactive table.\"\n",
              "              style=\"display:none;\">\n",
              "        \n",
              "  <svg xmlns=\"http://www.w3.org/2000/svg\" height=\"24px\"viewBox=\"0 0 24 24\"\n",
              "       width=\"24px\">\n",
              "    <path d=\"M0 0h24v24H0V0z\" fill=\"none\"/>\n",
              "    <path d=\"M18.56 5.44l.94 2.06.94-2.06 2.06-.94-2.06-.94-.94-2.06-.94 2.06-2.06.94zm-11 1L8.5 8.5l.94-2.06 2.06-.94-2.06-.94L8.5 2.5l-.94 2.06-2.06.94zm10 10l.94 2.06.94-2.06 2.06-.94-2.06-.94-.94-2.06-.94 2.06-2.06.94z\"/><path d=\"M17.41 7.96l-1.37-1.37c-.4-.4-.92-.59-1.43-.59-.52 0-1.04.2-1.43.59L10.3 9.45l-7.72 7.72c-.78.78-.78 2.05 0 2.83L4 21.41c.39.39.9.59 1.41.59.51 0 1.02-.2 1.41-.59l7.78-7.78 2.81-2.81c.8-.78.8-2.07 0-2.86zM5.41 20L4 18.59l7.72-7.72 1.47 1.35L5.41 20z\"/>\n",
              "  </svg>\n",
              "      </button>\n",
              "      \n",
              "  <style>\n",
              "    .colab-df-container {\n",
              "      display:flex;\n",
              "      flex-wrap:wrap;\n",
              "      gap: 12px;\n",
              "    }\n",
              "\n",
              "    .colab-df-convert {\n",
              "      background-color: #E8F0FE;\n",
              "      border: none;\n",
              "      border-radius: 50%;\n",
              "      cursor: pointer;\n",
              "      display: none;\n",
              "      fill: #1967D2;\n",
              "      height: 32px;\n",
              "      padding: 0 0 0 0;\n",
              "      width: 32px;\n",
              "    }\n",
              "\n",
              "    .colab-df-convert:hover {\n",
              "      background-color: #E2EBFA;\n",
              "      box-shadow: 0px 1px 2px rgba(60, 64, 67, 0.3), 0px 1px 3px 1px rgba(60, 64, 67, 0.15);\n",
              "      fill: #174EA6;\n",
              "    }\n",
              "\n",
              "    [theme=dark] .colab-df-convert {\n",
              "      background-color: #3B4455;\n",
              "      fill: #D2E3FC;\n",
              "    }\n",
              "\n",
              "    [theme=dark] .colab-df-convert:hover {\n",
              "      background-color: #434B5C;\n",
              "      box-shadow: 0px 1px 3px 1px rgba(0, 0, 0, 0.15);\n",
              "      filter: drop-shadow(0px 1px 2px rgba(0, 0, 0, 0.3));\n",
              "      fill: #FFFFFF;\n",
              "    }\n",
              "  </style>\n",
              "\n",
              "      <script>\n",
              "        const buttonEl =\n",
              "          document.querySelector('#df-1182104d-f6d1-402c-a94d-4c2517662d71 button.colab-df-convert');\n",
              "        buttonEl.style.display =\n",
              "          google.colab.kernel.accessAllowed ? 'block' : 'none';\n",
              "\n",
              "        async function convertToInteractive(key) {\n",
              "          const element = document.querySelector('#df-1182104d-f6d1-402c-a94d-4c2517662d71');\n",
              "          const dataTable =\n",
              "            await google.colab.kernel.invokeFunction('convertToInteractive',\n",
              "                                                     [key], {});\n",
              "          if (!dataTable) return;\n",
              "\n",
              "          const docLinkHtml = 'Like what you see? Visit the ' +\n",
              "            '<a target=\"_blank\" href=https://colab.research.google.com/notebooks/data_table.ipynb>data table notebook</a>'\n",
              "            + ' to learn more about interactive tables.';\n",
              "          element.innerHTML = '';\n",
              "          dataTable['output_type'] = 'display_data';\n",
              "          await google.colab.output.renderOutput(dataTable, element);\n",
              "          const docLink = document.createElement('div');\n",
              "          docLink.innerHTML = docLinkHtml;\n",
              "          element.appendChild(docLink);\n",
              "        }\n",
              "      </script>\n",
              "    </div>\n",
              "  </div>\n",
              "  "
            ]
          },
          "metadata": {},
          "execution_count": 13
        }
      ],
      "source": [
        "df.head()"
      ]
    },
    {
      "cell_type": "markdown",
      "source": [
        "Boolean Replace True False into 0 and 1"
      ],
      "metadata": {
        "id": "7WiiJ7W3XWYU"
      },
      "id": "7WiiJ7W3XWYU"
    },
    {
      "cell_type": "code",
      "execution_count": null,
      "id": "38b5186c",
      "metadata": {
        "id": "38b5186c"
      },
      "outputs": [],
      "source": [
        "def replace_boolean(df):\n",
        "    for col in df:\n",
        "        df['is_paid'].replace(True, 1, inplace=True)\n",
        "        df['is_paid'].replace(False, 0, inplace=True)\n",
        "\n",
        "replace_boolean(df)\n",
        "\n",
        "def replace_boolean(df):\n",
        "    for col in df:\n",
        "        df['is_wishlisted'].replace(True, 1, inplace=True)\n",
        "        df['is_wishlisted'].replace(False, 0, inplace=True)\n",
        "\n",
        "replace_boolean(df)"
      ]
    },
    {
      "cell_type": "code",
      "execution_count": null,
      "id": "8d0cd162",
      "metadata": {
        "colab": {
          "base_uri": "https://localhost:8080/",
          "height": 565
        },
        "id": "8d0cd162",
        "outputId": "b08de666-b7fc-4cad-a21a-0c9e82439a6c"
      },
      "outputs": [
        {
          "output_type": "execute_result",
          "data": {
            "text/plain": [
              "        id                                              title  \\\n",
              "0   762616  The Complete SQL Bootcamp 2020: Go from Zero t...   \n",
              "1   937678  Tableau 2020 A-Z: Hands-On Tableau Training fo...   \n",
              "2  1361790             PMP Exam Prep Seminar -  PMBOK Guide 6   \n",
              "3   648826         The Complete Financial Analyst Course 2020   \n",
              "4   637930  An Entire MBA in 1 Course:Award Winning Busine...   \n",
              "\n",
              "                                                 url  is_paid  \\\n",
              "0                 /course/the-complete-sql-bootcamp/        1   \n",
              "1                                 /course/tableau10/        1   \n",
              "2                        /course/pmp-pmbok6-35-pdus/        1   \n",
              "3     /course/the-complete-financial-analyst-course/        1   \n",
              "4  /course/an-entire-mba-in-1-courseaward-winning...        1   \n",
              "\n",
              "   num_subscribers  avg_rating  avg_rating_recent   rating  num_reviews  \\\n",
              "0           295509     4.66019            4.67874  4.67874        78006   \n",
              "1           209070     4.58956            4.60015  4.60015        54581   \n",
              "2           155282     4.59491            4.59326  4.59326        52653   \n",
              "3           245860     4.54407            4.53772  4.53772        46447   \n",
              "4           374836     4.47080            4.47173  4.47173        41630   \n",
              "\n",
              "   is_wishlisted  num_published_lectures  num_published_practice_tests  \\\n",
              "0              0                      84                             0   \n",
              "1              0                      78                             0   \n",
              "2              0                     292                             2   \n",
              "3              0                     338                             0   \n",
              "4              0                      83                             0   \n",
              "\n",
              "                created        published_time  discount_price__amount  \\\n",
              "0  2016-02-14T22:57:48Z  2016-04-06T05:16:11Z                   455.0   \n",
              "1  2016-08-22T12:10:18Z  2016-08-23T16:59:49Z                   455.0   \n",
              "2  2017-09-26T16:32:48Z  2017-11-14T23:58:14Z                   455.0   \n",
              "3  2015-10-23T13:34:35Z  2016-01-21T01:38:48Z                   455.0   \n",
              "4  2015-10-12T06:39:46Z  2016-01-11T21:39:33Z                   455.0   \n",
              "\n",
              "   price_detail__amount  \n",
              "0                  8640  \n",
              "1                  8640  \n",
              "2                  8640  \n",
              "3                  8640  \n",
              "4                  8640  "
            ],
            "text/html": [
              "\n",
              "  <div id=\"df-552babb1-a0a4-44de-8be8-337539acd5cf\">\n",
              "    <div class=\"colab-df-container\">\n",
              "      <div>\n",
              "<style scoped>\n",
              "    .dataframe tbody tr th:only-of-type {\n",
              "        vertical-align: middle;\n",
              "    }\n",
              "\n",
              "    .dataframe tbody tr th {\n",
              "        vertical-align: top;\n",
              "    }\n",
              "\n",
              "    .dataframe thead th {\n",
              "        text-align: right;\n",
              "    }\n",
              "</style>\n",
              "<table border=\"1\" class=\"dataframe\">\n",
              "  <thead>\n",
              "    <tr style=\"text-align: right;\">\n",
              "      <th></th>\n",
              "      <th>id</th>\n",
              "      <th>title</th>\n",
              "      <th>url</th>\n",
              "      <th>is_paid</th>\n",
              "      <th>num_subscribers</th>\n",
              "      <th>avg_rating</th>\n",
              "      <th>avg_rating_recent</th>\n",
              "      <th>rating</th>\n",
              "      <th>num_reviews</th>\n",
              "      <th>is_wishlisted</th>\n",
              "      <th>num_published_lectures</th>\n",
              "      <th>num_published_practice_tests</th>\n",
              "      <th>created</th>\n",
              "      <th>published_time</th>\n",
              "      <th>discount_price__amount</th>\n",
              "      <th>price_detail__amount</th>\n",
              "    </tr>\n",
              "  </thead>\n",
              "  <tbody>\n",
              "    <tr>\n",
              "      <th>0</th>\n",
              "      <td>762616</td>\n",
              "      <td>The Complete SQL Bootcamp 2020: Go from Zero t...</td>\n",
              "      <td>/course/the-complete-sql-bootcamp/</td>\n",
              "      <td>1</td>\n",
              "      <td>295509</td>\n",
              "      <td>4.66019</td>\n",
              "      <td>4.67874</td>\n",
              "      <td>4.67874</td>\n",
              "      <td>78006</td>\n",
              "      <td>0</td>\n",
              "      <td>84</td>\n",
              "      <td>0</td>\n",
              "      <td>2016-02-14T22:57:48Z</td>\n",
              "      <td>2016-04-06T05:16:11Z</td>\n",
              "      <td>455.0</td>\n",
              "      <td>8640</td>\n",
              "    </tr>\n",
              "    <tr>\n",
              "      <th>1</th>\n",
              "      <td>937678</td>\n",
              "      <td>Tableau 2020 A-Z: Hands-On Tableau Training fo...</td>\n",
              "      <td>/course/tableau10/</td>\n",
              "      <td>1</td>\n",
              "      <td>209070</td>\n",
              "      <td>4.58956</td>\n",
              "      <td>4.60015</td>\n",
              "      <td>4.60015</td>\n",
              "      <td>54581</td>\n",
              "      <td>0</td>\n",
              "      <td>78</td>\n",
              "      <td>0</td>\n",
              "      <td>2016-08-22T12:10:18Z</td>\n",
              "      <td>2016-08-23T16:59:49Z</td>\n",
              "      <td>455.0</td>\n",
              "      <td>8640</td>\n",
              "    </tr>\n",
              "    <tr>\n",
              "      <th>2</th>\n",
              "      <td>1361790</td>\n",
              "      <td>PMP Exam Prep Seminar -  PMBOK Guide 6</td>\n",
              "      <td>/course/pmp-pmbok6-35-pdus/</td>\n",
              "      <td>1</td>\n",
              "      <td>155282</td>\n",
              "      <td>4.59491</td>\n",
              "      <td>4.59326</td>\n",
              "      <td>4.59326</td>\n",
              "      <td>52653</td>\n",
              "      <td>0</td>\n",
              "      <td>292</td>\n",
              "      <td>2</td>\n",
              "      <td>2017-09-26T16:32:48Z</td>\n",
              "      <td>2017-11-14T23:58:14Z</td>\n",
              "      <td>455.0</td>\n",
              "      <td>8640</td>\n",
              "    </tr>\n",
              "    <tr>\n",
              "      <th>3</th>\n",
              "      <td>648826</td>\n",
              "      <td>The Complete Financial Analyst Course 2020</td>\n",
              "      <td>/course/the-complete-financial-analyst-course/</td>\n",
              "      <td>1</td>\n",
              "      <td>245860</td>\n",
              "      <td>4.54407</td>\n",
              "      <td>4.53772</td>\n",
              "      <td>4.53772</td>\n",
              "      <td>46447</td>\n",
              "      <td>0</td>\n",
              "      <td>338</td>\n",
              "      <td>0</td>\n",
              "      <td>2015-10-23T13:34:35Z</td>\n",
              "      <td>2016-01-21T01:38:48Z</td>\n",
              "      <td>455.0</td>\n",
              "      <td>8640</td>\n",
              "    </tr>\n",
              "    <tr>\n",
              "      <th>4</th>\n",
              "      <td>637930</td>\n",
              "      <td>An Entire MBA in 1 Course:Award Winning Busine...</td>\n",
              "      <td>/course/an-entire-mba-in-1-courseaward-winning...</td>\n",
              "      <td>1</td>\n",
              "      <td>374836</td>\n",
              "      <td>4.47080</td>\n",
              "      <td>4.47173</td>\n",
              "      <td>4.47173</td>\n",
              "      <td>41630</td>\n",
              "      <td>0</td>\n",
              "      <td>83</td>\n",
              "      <td>0</td>\n",
              "      <td>2015-10-12T06:39:46Z</td>\n",
              "      <td>2016-01-11T21:39:33Z</td>\n",
              "      <td>455.0</td>\n",
              "      <td>8640</td>\n",
              "    </tr>\n",
              "  </tbody>\n",
              "</table>\n",
              "</div>\n",
              "      <button class=\"colab-df-convert\" onclick=\"convertToInteractive('df-552babb1-a0a4-44de-8be8-337539acd5cf')\"\n",
              "              title=\"Convert this dataframe to an interactive table.\"\n",
              "              style=\"display:none;\">\n",
              "        \n",
              "  <svg xmlns=\"http://www.w3.org/2000/svg\" height=\"24px\"viewBox=\"0 0 24 24\"\n",
              "       width=\"24px\">\n",
              "    <path d=\"M0 0h24v24H0V0z\" fill=\"none\"/>\n",
              "    <path d=\"M18.56 5.44l.94 2.06.94-2.06 2.06-.94-2.06-.94-.94-2.06-.94 2.06-2.06.94zm-11 1L8.5 8.5l.94-2.06 2.06-.94-2.06-.94L8.5 2.5l-.94 2.06-2.06.94zm10 10l.94 2.06.94-2.06 2.06-.94-2.06-.94-.94-2.06-.94 2.06-2.06.94z\"/><path d=\"M17.41 7.96l-1.37-1.37c-.4-.4-.92-.59-1.43-.59-.52 0-1.04.2-1.43.59L10.3 9.45l-7.72 7.72c-.78.78-.78 2.05 0 2.83L4 21.41c.39.39.9.59 1.41.59.51 0 1.02-.2 1.41-.59l7.78-7.78 2.81-2.81c.8-.78.8-2.07 0-2.86zM5.41 20L4 18.59l7.72-7.72 1.47 1.35L5.41 20z\"/>\n",
              "  </svg>\n",
              "      </button>\n",
              "      \n",
              "  <style>\n",
              "    .colab-df-container {\n",
              "      display:flex;\n",
              "      flex-wrap:wrap;\n",
              "      gap: 12px;\n",
              "    }\n",
              "\n",
              "    .colab-df-convert {\n",
              "      background-color: #E8F0FE;\n",
              "      border: none;\n",
              "      border-radius: 50%;\n",
              "      cursor: pointer;\n",
              "      display: none;\n",
              "      fill: #1967D2;\n",
              "      height: 32px;\n",
              "      padding: 0 0 0 0;\n",
              "      width: 32px;\n",
              "    }\n",
              "\n",
              "    .colab-df-convert:hover {\n",
              "      background-color: #E2EBFA;\n",
              "      box-shadow: 0px 1px 2px rgba(60, 64, 67, 0.3), 0px 1px 3px 1px rgba(60, 64, 67, 0.15);\n",
              "      fill: #174EA6;\n",
              "    }\n",
              "\n",
              "    [theme=dark] .colab-df-convert {\n",
              "      background-color: #3B4455;\n",
              "      fill: #D2E3FC;\n",
              "    }\n",
              "\n",
              "    [theme=dark] .colab-df-convert:hover {\n",
              "      background-color: #434B5C;\n",
              "      box-shadow: 0px 1px 3px 1px rgba(0, 0, 0, 0.15);\n",
              "      filter: drop-shadow(0px 1px 2px rgba(0, 0, 0, 0.3));\n",
              "      fill: #FFFFFF;\n",
              "    }\n",
              "  </style>\n",
              "\n",
              "      <script>\n",
              "        const buttonEl =\n",
              "          document.querySelector('#df-552babb1-a0a4-44de-8be8-337539acd5cf button.colab-df-convert');\n",
              "        buttonEl.style.display =\n",
              "          google.colab.kernel.accessAllowed ? 'block' : 'none';\n",
              "\n",
              "        async function convertToInteractive(key) {\n",
              "          const element = document.querySelector('#df-552babb1-a0a4-44de-8be8-337539acd5cf');\n",
              "          const dataTable =\n",
              "            await google.colab.kernel.invokeFunction('convertToInteractive',\n",
              "                                                     [key], {});\n",
              "          if (!dataTable) return;\n",
              "\n",
              "          const docLinkHtml = 'Like what you see? Visit the ' +\n",
              "            '<a target=\"_blank\" href=https://colab.research.google.com/notebooks/data_table.ipynb>data table notebook</a>'\n",
              "            + ' to learn more about interactive tables.';\n",
              "          element.innerHTML = '';\n",
              "          dataTable['output_type'] = 'display_data';\n",
              "          await google.colab.output.renderOutput(dataTable, element);\n",
              "          const docLink = document.createElement('div');\n",
              "          docLink.innerHTML = docLinkHtml;\n",
              "          element.appendChild(docLink);\n",
              "        }\n",
              "      </script>\n",
              "    </div>\n",
              "  </div>\n",
              "  "
            ]
          },
          "metadata": {},
          "execution_count": 15
        }
      ],
      "source": [
        "df.head()"
      ]
    },
    {
      "cell_type": "markdown",
      "source": [
        "Exploratory Data Analysis"
      ],
      "metadata": {
        "id": "VsVUIJ79X3tG"
      },
      "id": "VsVUIJ79X3tG"
    },
    {
      "cell_type": "code",
      "execution_count": null,
      "id": "f7b0b191",
      "metadata": {
        "colab": {
          "base_uri": "https://localhost:8080/",
          "height": 490
        },
        "id": "f7b0b191",
        "outputId": "1df4d8a0-46be-4910-ee14-3f1fa6e342df"
      },
      "outputs": [
        {
          "output_type": "execute_result",
          "data": {
            "text/plain": [
              "                                    id  is_paid  num_subscribers  avg_rating  \\\n",
              "id                            1.000000      NaN        -0.062443    0.069299   \n",
              "is_paid                            NaN      NaN              NaN         NaN   \n",
              "num_subscribers              -0.062443      NaN         1.000000    0.057190   \n",
              "avg_rating                    0.069299      NaN         0.057190    1.000000   \n",
              "avg_rating_recent             0.073568      NaN         0.060528    0.946184   \n",
              "rating                        0.073568      NaN         0.060528    0.946184   \n",
              "num_reviews                  -0.074847      NaN         0.791757    0.096860   \n",
              "is_wishlisted                      NaN      NaN              NaN         NaN   \n",
              "num_published_lectures       -0.005036      NaN         0.230573    0.115559   \n",
              "num_published_practice_tests  0.141731      NaN        -0.028403   -0.063476   \n",
              "discount_price__amount        0.061175      NaN        -0.020028    0.064538   \n",
              "price_detail__amount          0.076532      NaN         0.154647    0.118148   \n",
              "\n",
              "                              avg_rating_recent    rating  num_reviews  \\\n",
              "id                                     0.073568  0.073568    -0.074847   \n",
              "is_paid                                     NaN       NaN          NaN   \n",
              "num_subscribers                        0.060528  0.060528     0.791757   \n",
              "avg_rating                             0.946184  0.946184     0.096860   \n",
              "avg_rating_recent                      1.000000  1.000000     0.095058   \n",
              "rating                                 1.000000  1.000000     0.095058   \n",
              "num_reviews                            0.095058  0.095058     1.000000   \n",
              "is_wishlisted                               NaN       NaN          NaN   \n",
              "num_published_lectures                 0.106626  0.106626     0.191795   \n",
              "num_published_practice_tests          -0.065936 -0.065936    -0.005158   \n",
              "discount_price__amount                 0.065066  0.065066    -0.001602   \n",
              "price_detail__amount                   0.106138  0.106138     0.107704   \n",
              "\n",
              "                              is_wishlisted  num_published_lectures  \\\n",
              "id                                      NaN               -0.005036   \n",
              "is_paid                                 NaN                     NaN   \n",
              "num_subscribers                         NaN                0.230573   \n",
              "avg_rating                              NaN                0.115559   \n",
              "avg_rating_recent                       NaN                0.106626   \n",
              "rating                                  NaN                0.106626   \n",
              "num_reviews                             NaN                0.191795   \n",
              "is_wishlisted                           NaN                     NaN   \n",
              "num_published_lectures                  NaN                1.000000   \n",
              "num_published_practice_tests            NaN               -0.066533   \n",
              "discount_price__amount                  NaN                0.027290   \n",
              "price_detail__amount                    NaN                0.272331   \n",
              "\n",
              "                              num_published_practice_tests  \\\n",
              "id                                                0.141731   \n",
              "is_paid                                                NaN   \n",
              "num_subscribers                                  -0.028403   \n",
              "avg_rating                                       -0.063476   \n",
              "avg_rating_recent                                -0.065936   \n",
              "rating                                           -0.065936   \n",
              "num_reviews                                      -0.005158   \n",
              "is_wishlisted                                          NaN   \n",
              "num_published_lectures                           -0.066533   \n",
              "num_published_practice_tests                      1.000000   \n",
              "discount_price__amount                            0.040762   \n",
              "price_detail__amount                             -0.081947   \n",
              "\n",
              "                              discount_price__amount  price_detail__amount  \n",
              "id                                          0.061175              0.076532  \n",
              "is_paid                                          NaN                   NaN  \n",
              "num_subscribers                            -0.020028              0.154647  \n",
              "avg_rating                                  0.064538              0.118148  \n",
              "avg_rating_recent                           0.065066              0.106138  \n",
              "rating                                      0.065066              0.106138  \n",
              "num_reviews                                -0.001602              0.107704  \n",
              "is_wishlisted                                    NaN                   NaN  \n",
              "num_published_lectures                      0.027290              0.272331  \n",
              "num_published_practice_tests                0.040762             -0.081947  \n",
              "discount_price__amount                      1.000000              0.123501  \n",
              "price_detail__amount                        0.123501              1.000000  "
            ],
            "text/html": [
              "\n",
              "  <div id=\"df-fac1a844-6940-4275-8277-862724d5eec2\">\n",
              "    <div class=\"colab-df-container\">\n",
              "      <div>\n",
              "<style scoped>\n",
              "    .dataframe tbody tr th:only-of-type {\n",
              "        vertical-align: middle;\n",
              "    }\n",
              "\n",
              "    .dataframe tbody tr th {\n",
              "        vertical-align: top;\n",
              "    }\n",
              "\n",
              "    .dataframe thead th {\n",
              "        text-align: right;\n",
              "    }\n",
              "</style>\n",
              "<table border=\"1\" class=\"dataframe\">\n",
              "  <thead>\n",
              "    <tr style=\"text-align: right;\">\n",
              "      <th></th>\n",
              "      <th>id</th>\n",
              "      <th>is_paid</th>\n",
              "      <th>num_subscribers</th>\n",
              "      <th>avg_rating</th>\n",
              "      <th>avg_rating_recent</th>\n",
              "      <th>rating</th>\n",
              "      <th>num_reviews</th>\n",
              "      <th>is_wishlisted</th>\n",
              "      <th>num_published_lectures</th>\n",
              "      <th>num_published_practice_tests</th>\n",
              "      <th>discount_price__amount</th>\n",
              "      <th>price_detail__amount</th>\n",
              "    </tr>\n",
              "  </thead>\n",
              "  <tbody>\n",
              "    <tr>\n",
              "      <th>id</th>\n",
              "      <td>1.000000</td>\n",
              "      <td>NaN</td>\n",
              "      <td>-0.062443</td>\n",
              "      <td>0.069299</td>\n",
              "      <td>0.073568</td>\n",
              "      <td>0.073568</td>\n",
              "      <td>-0.074847</td>\n",
              "      <td>NaN</td>\n",
              "      <td>-0.005036</td>\n",
              "      <td>0.141731</td>\n",
              "      <td>0.061175</td>\n",
              "      <td>0.076532</td>\n",
              "    </tr>\n",
              "    <tr>\n",
              "      <th>is_paid</th>\n",
              "      <td>NaN</td>\n",
              "      <td>NaN</td>\n",
              "      <td>NaN</td>\n",
              "      <td>NaN</td>\n",
              "      <td>NaN</td>\n",
              "      <td>NaN</td>\n",
              "      <td>NaN</td>\n",
              "      <td>NaN</td>\n",
              "      <td>NaN</td>\n",
              "      <td>NaN</td>\n",
              "      <td>NaN</td>\n",
              "      <td>NaN</td>\n",
              "    </tr>\n",
              "    <tr>\n",
              "      <th>num_subscribers</th>\n",
              "      <td>-0.062443</td>\n",
              "      <td>NaN</td>\n",
              "      <td>1.000000</td>\n",
              "      <td>0.057190</td>\n",
              "      <td>0.060528</td>\n",
              "      <td>0.060528</td>\n",
              "      <td>0.791757</td>\n",
              "      <td>NaN</td>\n",
              "      <td>0.230573</td>\n",
              "      <td>-0.028403</td>\n",
              "      <td>-0.020028</td>\n",
              "      <td>0.154647</td>\n",
              "    </tr>\n",
              "    <tr>\n",
              "      <th>avg_rating</th>\n",
              "      <td>0.069299</td>\n",
              "      <td>NaN</td>\n",
              "      <td>0.057190</td>\n",
              "      <td>1.000000</td>\n",
              "      <td>0.946184</td>\n",
              "      <td>0.946184</td>\n",
              "      <td>0.096860</td>\n",
              "      <td>NaN</td>\n",
              "      <td>0.115559</td>\n",
              "      <td>-0.063476</td>\n",
              "      <td>0.064538</td>\n",
              "      <td>0.118148</td>\n",
              "    </tr>\n",
              "    <tr>\n",
              "      <th>avg_rating_recent</th>\n",
              "      <td>0.073568</td>\n",
              "      <td>NaN</td>\n",
              "      <td>0.060528</td>\n",
              "      <td>0.946184</td>\n",
              "      <td>1.000000</td>\n",
              "      <td>1.000000</td>\n",
              "      <td>0.095058</td>\n",
              "      <td>NaN</td>\n",
              "      <td>0.106626</td>\n",
              "      <td>-0.065936</td>\n",
              "      <td>0.065066</td>\n",
              "      <td>0.106138</td>\n",
              "    </tr>\n",
              "    <tr>\n",
              "      <th>rating</th>\n",
              "      <td>0.073568</td>\n",
              "      <td>NaN</td>\n",
              "      <td>0.060528</td>\n",
              "      <td>0.946184</td>\n",
              "      <td>1.000000</td>\n",
              "      <td>1.000000</td>\n",
              "      <td>0.095058</td>\n",
              "      <td>NaN</td>\n",
              "      <td>0.106626</td>\n",
              "      <td>-0.065936</td>\n",
              "      <td>0.065066</td>\n",
              "      <td>0.106138</td>\n",
              "    </tr>\n",
              "    <tr>\n",
              "      <th>num_reviews</th>\n",
              "      <td>-0.074847</td>\n",
              "      <td>NaN</td>\n",
              "      <td>0.791757</td>\n",
              "      <td>0.096860</td>\n",
              "      <td>0.095058</td>\n",
              "      <td>0.095058</td>\n",
              "      <td>1.000000</td>\n",
              "      <td>NaN</td>\n",
              "      <td>0.191795</td>\n",
              "      <td>-0.005158</td>\n",
              "      <td>-0.001602</td>\n",
              "      <td>0.107704</td>\n",
              "    </tr>\n",
              "    <tr>\n",
              "      <th>is_wishlisted</th>\n",
              "      <td>NaN</td>\n",
              "      <td>NaN</td>\n",
              "      <td>NaN</td>\n",
              "      <td>NaN</td>\n",
              "      <td>NaN</td>\n",
              "      <td>NaN</td>\n",
              "      <td>NaN</td>\n",
              "      <td>NaN</td>\n",
              "      <td>NaN</td>\n",
              "      <td>NaN</td>\n",
              "      <td>NaN</td>\n",
              "      <td>NaN</td>\n",
              "    </tr>\n",
              "    <tr>\n",
              "      <th>num_published_lectures</th>\n",
              "      <td>-0.005036</td>\n",
              "      <td>NaN</td>\n",
              "      <td>0.230573</td>\n",
              "      <td>0.115559</td>\n",
              "      <td>0.106626</td>\n",
              "      <td>0.106626</td>\n",
              "      <td>0.191795</td>\n",
              "      <td>NaN</td>\n",
              "      <td>1.000000</td>\n",
              "      <td>-0.066533</td>\n",
              "      <td>0.027290</td>\n",
              "      <td>0.272331</td>\n",
              "    </tr>\n",
              "    <tr>\n",
              "      <th>num_published_practice_tests</th>\n",
              "      <td>0.141731</td>\n",
              "      <td>NaN</td>\n",
              "      <td>-0.028403</td>\n",
              "      <td>-0.063476</td>\n",
              "      <td>-0.065936</td>\n",
              "      <td>-0.065936</td>\n",
              "      <td>-0.005158</td>\n",
              "      <td>NaN</td>\n",
              "      <td>-0.066533</td>\n",
              "      <td>1.000000</td>\n",
              "      <td>0.040762</td>\n",
              "      <td>-0.081947</td>\n",
              "    </tr>\n",
              "    <tr>\n",
              "      <th>discount_price__amount</th>\n",
              "      <td>0.061175</td>\n",
              "      <td>NaN</td>\n",
              "      <td>-0.020028</td>\n",
              "      <td>0.064538</td>\n",
              "      <td>0.065066</td>\n",
              "      <td>0.065066</td>\n",
              "      <td>-0.001602</td>\n",
              "      <td>NaN</td>\n",
              "      <td>0.027290</td>\n",
              "      <td>0.040762</td>\n",
              "      <td>1.000000</td>\n",
              "      <td>0.123501</td>\n",
              "    </tr>\n",
              "    <tr>\n",
              "      <th>price_detail__amount</th>\n",
              "      <td>0.076532</td>\n",
              "      <td>NaN</td>\n",
              "      <td>0.154647</td>\n",
              "      <td>0.118148</td>\n",
              "      <td>0.106138</td>\n",
              "      <td>0.106138</td>\n",
              "      <td>0.107704</td>\n",
              "      <td>NaN</td>\n",
              "      <td>0.272331</td>\n",
              "      <td>-0.081947</td>\n",
              "      <td>0.123501</td>\n",
              "      <td>1.000000</td>\n",
              "    </tr>\n",
              "  </tbody>\n",
              "</table>\n",
              "</div>\n",
              "      <button class=\"colab-df-convert\" onclick=\"convertToInteractive('df-fac1a844-6940-4275-8277-862724d5eec2')\"\n",
              "              title=\"Convert this dataframe to an interactive table.\"\n",
              "              style=\"display:none;\">\n",
              "        \n",
              "  <svg xmlns=\"http://www.w3.org/2000/svg\" height=\"24px\"viewBox=\"0 0 24 24\"\n",
              "       width=\"24px\">\n",
              "    <path d=\"M0 0h24v24H0V0z\" fill=\"none\"/>\n",
              "    <path d=\"M18.56 5.44l.94 2.06.94-2.06 2.06-.94-2.06-.94-.94-2.06-.94 2.06-2.06.94zm-11 1L8.5 8.5l.94-2.06 2.06-.94-2.06-.94L8.5 2.5l-.94 2.06-2.06.94zm10 10l.94 2.06.94-2.06 2.06-.94-2.06-.94-.94-2.06-.94 2.06-2.06.94z\"/><path d=\"M17.41 7.96l-1.37-1.37c-.4-.4-.92-.59-1.43-.59-.52 0-1.04.2-1.43.59L10.3 9.45l-7.72 7.72c-.78.78-.78 2.05 0 2.83L4 21.41c.39.39.9.59 1.41.59.51 0 1.02-.2 1.41-.59l7.78-7.78 2.81-2.81c.8-.78.8-2.07 0-2.86zM5.41 20L4 18.59l7.72-7.72 1.47 1.35L5.41 20z\"/>\n",
              "  </svg>\n",
              "      </button>\n",
              "      \n",
              "  <style>\n",
              "    .colab-df-container {\n",
              "      display:flex;\n",
              "      flex-wrap:wrap;\n",
              "      gap: 12px;\n",
              "    }\n",
              "\n",
              "    .colab-df-convert {\n",
              "      background-color: #E8F0FE;\n",
              "      border: none;\n",
              "      border-radius: 50%;\n",
              "      cursor: pointer;\n",
              "      display: none;\n",
              "      fill: #1967D2;\n",
              "      height: 32px;\n",
              "      padding: 0 0 0 0;\n",
              "      width: 32px;\n",
              "    }\n",
              "\n",
              "    .colab-df-convert:hover {\n",
              "      background-color: #E2EBFA;\n",
              "      box-shadow: 0px 1px 2px rgba(60, 64, 67, 0.3), 0px 1px 3px 1px rgba(60, 64, 67, 0.15);\n",
              "      fill: #174EA6;\n",
              "    }\n",
              "\n",
              "    [theme=dark] .colab-df-convert {\n",
              "      background-color: #3B4455;\n",
              "      fill: #D2E3FC;\n",
              "    }\n",
              "\n",
              "    [theme=dark] .colab-df-convert:hover {\n",
              "      background-color: #434B5C;\n",
              "      box-shadow: 0px 1px 3px 1px rgba(0, 0, 0, 0.15);\n",
              "      filter: drop-shadow(0px 1px 2px rgba(0, 0, 0, 0.3));\n",
              "      fill: #FFFFFF;\n",
              "    }\n",
              "  </style>\n",
              "\n",
              "      <script>\n",
              "        const buttonEl =\n",
              "          document.querySelector('#df-fac1a844-6940-4275-8277-862724d5eec2 button.colab-df-convert');\n",
              "        buttonEl.style.display =\n",
              "          google.colab.kernel.accessAllowed ? 'block' : 'none';\n",
              "\n",
              "        async function convertToInteractive(key) {\n",
              "          const element = document.querySelector('#df-fac1a844-6940-4275-8277-862724d5eec2');\n",
              "          const dataTable =\n",
              "            await google.colab.kernel.invokeFunction('convertToInteractive',\n",
              "                                                     [key], {});\n",
              "          if (!dataTable) return;\n",
              "\n",
              "          const docLinkHtml = 'Like what you see? Visit the ' +\n",
              "            '<a target=\"_blank\" href=https://colab.research.google.com/notebooks/data_table.ipynb>data table notebook</a>'\n",
              "            + ' to learn more about interactive tables.';\n",
              "          element.innerHTML = '';\n",
              "          dataTable['output_type'] = 'display_data';\n",
              "          await google.colab.output.renderOutput(dataTable, element);\n",
              "          const docLink = document.createElement('div');\n",
              "          docLink.innerHTML = docLinkHtml;\n",
              "          element.appendChild(docLink);\n",
              "        }\n",
              "      </script>\n",
              "    </div>\n",
              "  </div>\n",
              "  "
            ]
          },
          "metadata": {},
          "execution_count": 16
        }
      ],
      "source": [
        "df.corr()"
      ]
    },
    {
      "cell_type": "code",
      "execution_count": null,
      "id": "44669821",
      "metadata": {
        "colab": {
          "base_uri": "https://localhost:8080/",
          "height": 1000
        },
        "id": "44669821",
        "outputId": "96efa4cc-e20d-42eb-88d5-ae2c7365109f"
      },
      "outputs": [
        {
          "output_type": "execute_result",
          "data": {
            "text/plain": [
              "<matplotlib.axes._subplots.AxesSubplot at 0x7fd6ec951950>"
            ]
          },
          "metadata": {},
          "execution_count": 17
        },
        {
          "output_type": "display_data",
          "data": {
            "text/plain": [
              "<Figure size 1080x1080 with 2 Axes>"
            ],
            "image/png": "[encoded data removed]"
          },
          "metadata": {
            "needs_background": "light"
          }
        }
      ],
      "source": [
        "''' checking correlation between featurs variables '''\n",
        "plt.figure(figsize = (15,15))\n",
        "sns.heatmap(df.corr(),annot = True)"
      ]
    },
    {
      "cell_type": "markdown",
      "id": "530706da",
      "metadata": {
        "id": "530706da"
      },
      "source": [
        "There is no correlation from is_paid column and is_wishlisted column with any of the feature variable \n",
        "as we see id, avg_rating, Recent_rating, Rating, is more correlated with each other "
      ]
    },
    {
      "cell_type": "code",
      "execution_count": null,
      "id": "0942bb3e",
      "metadata": {
        "id": "0942bb3e",
        "colab": {
          "base_uri": "https://localhost:8080/",
          "height": 1000
        },
        "outputId": "d6cb90cb-45fb-4b7a-f086-4da1aa3030cf"
      },
      "outputs": [
        {
          "output_type": "execute_result",
          "data": {
            "text/plain": [
              "<matplotlib.axes._subplots.AxesSubplot at 0x7fd6ec87da90>"
            ]
          },
          "metadata": {},
          "execution_count": 18
        },
        {
          "output_type": "display_data",
          "data": {
            "text/plain": [
              "<Figure size 1440x1440 with 1 Axes>"
            ],
            "image/png": "[encoded data removed]"
          },
          "metadata": {
            "needs_background": "light"
          }
        }
      ],
      "source": [
        "plt.figure(figsize = (20,20))\n",
        "sns.countplot(x = \"num_subscribers\", data = df )"
      ]
    },
    {
      "cell_type": "code",
      "source": [
        "plt.figure(figsize = (15,15))\n",
        "plt.hist(x = df['num_subscribers'])\n",
        "plt.show()"
      ],
      "metadata": {
        "colab": {
          "base_uri": "https://localhost:8080/",
          "height": 863
        },
        "id": "xdPwO2hzBTl8",
        "outputId": "a219ddf3-0669-44d6-f8ee-7b013a3cfe5f"
      },
      "id": "xdPwO2hzBTl8",
      "execution_count": null,
      "outputs": [
        {
          "output_type": "display_data",
          "data": {
            "text/plain": [
              "<Figure size 1080x1080 with 1 Axes>"
            ],
            "image/png": "[encoded data removed]"
          },
          "metadata": {
            "needs_background": "light"
          }
        }
      ]
    },
    {
      "cell_type": "markdown",
      "source": [
        "most of the id have more subscribers in between 0 to 50000 90% of id have subscribers above 8000"
      ],
      "metadata": {
        "id": "LnoBTOo6YGlT"
      },
      "id": "LnoBTOo6YGlT"
    },
    {
      "cell_type": "code",
      "source": [
        "plt.figure(figsize = (5,5))\n",
        "sns.countplot(x = \"is_paid\", data = df )"
      ],
      "metadata": {
        "colab": {
          "base_uri": "https://localhost:8080/",
          "height": 352
        },
        "id": "toQgs47RZ2AQ",
        "outputId": "e4fdac57-7ed1-48a7-d37a-0457772b5796"
      },
      "id": "toQgs47RZ2AQ",
      "execution_count": null,
      "outputs": [
        {
          "output_type": "execute_result",
          "data": {
            "text/plain": [
              "<matplotlib.axes._subplots.AxesSubplot at 0x7fd6e4571c10>"
            ]
          },
          "metadata": {},
          "execution_count": 20
        },
        {
          "output_type": "display_data",
          "data": {
            "text/plain": [
              "<Figure size 360x360 with 1 Axes>"
            ],
            "image/png": "[encoded data removed]"
          },
          "metadata": {
            "needs_background": "light"
          }
        }
      ]
    },
    {
      "cell_type": "markdown",
      "source": [
        "all cources are paid"
      ],
      "metadata": {
        "id": "vqUxEscfGqoj"
      },
      "id": "vqUxEscfGqoj"
    },
    {
      "cell_type": "code",
      "source": [
        "plt.figure(figsize = (20,20))\n",
        "sns.countplot(x = \"avg_rating\", data = df )"
      ],
      "metadata": {
        "colab": {
          "base_uri": "https://localhost:8080/",
          "height": 1000
        },
        "id": "-mUpDw0w_oth",
        "outputId": "e20020d8-fd47-4853-bd05-0628904e2d2a"
      },
      "id": "-mUpDw0w_oth",
      "execution_count": null,
      "outputs": [
        {
          "output_type": "execute_result",
          "data": {
            "text/plain": [
              "<matplotlib.axes._subplots.AxesSubplot at 0x7fd6e2157d50>"
            ]
          },
          "metadata": {},
          "execution_count": 21
        },
        {
          "output_type": "display_data",
          "data": {
            "text/plain": [
              "<Figure size 1440x1440 with 1 Axes>"
            ],
            "image/png": "[encoded data removed]"
          },
          "metadata": {
            "needs_background": "light"
          }
        }
      ]
    },
    {
      "cell_type": "code",
      "source": [
        "plt.figure(figsize = (10,10))\n",
        "sns.countplot(x = \"avg_rating_recent\", data = df )"
      ],
      "metadata": {
        "colab": {
          "base_uri": "https://localhost:8080/",
          "height": 623
        },
        "id": "ZUjz15quAGyD",
        "outputId": "a4f5f174-d920-4361-9aa0-03ef45dee483"
      },
      "id": "ZUjz15quAGyD",
      "execution_count": null,
      "outputs": [
        {
          "output_type": "execute_result",
          "data": {
            "text/plain": [
              "<matplotlib.axes._subplots.AxesSubplot at 0x7fd6df0bd810>"
            ]
          },
          "metadata": {},
          "execution_count": 22
        },
        {
          "output_type": "display_data",
          "data": {
            "text/plain": [
              "<Figure size 720x720 with 1 Axes>"
            ],
            "image/png": "[encoded data removed]"
          },
          "metadata": {
            "needs_background": "light"
          }
        }
      ]
    },
    {
      "cell_type": "code",
      "source": [
        "fig, ax = plt.subplots()\n",
        "ax.barh(df['is_paid'], df['avg_rating'])"
      ],
      "metadata": {
        "colab": {
          "base_uri": "https://localhost:8080/",
          "height": 282
        },
        "id": "SIMON7zMfYrS",
        "outputId": "600e130d-269a-4f05-b9ea-a1c00a6c8142"
      },
      "id": "SIMON7zMfYrS",
      "execution_count": null,
      "outputs": [
        {
          "output_type": "execute_result",
          "data": {
            "text/plain": [
              "<BarContainer object of 8937 artists>"
            ]
          },
          "metadata": {},
          "execution_count": 23
        },
        {
          "output_type": "display_data",
          "data": {
            "text/plain": [
              "<Figure size 432x288 with 1 Axes>"
            ],
            "image/png": "[encoded data removed]"
          },
          "metadata": {
            "needs_background": "light"
          }
        }
      ]
    },
    {
      "cell_type": "markdown",
      "source": [
        "all courses are paid and avg_rating are 5"
      ],
      "metadata": {
        "id": "hYs2JpxUG8An"
      },
      "id": "hYs2JpxUG8An"
    },
    {
      "cell_type": "code",
      "source": [
        "plt.figure(figsize= (15,15))\n",
        "plt.scatter('num_subscribers','rating',data = df, cmap ='PiYG')\n",
        "plt.xlabel('No_of_subscribers')\n",
        "plt.ylabel('Rating_out_of_5')\n",
        "plt.show()"
      ],
      "metadata": {
        "colab": {
          "base_uri": "https://localhost:8080/",
          "height": 878
        },
        "id": "HSjRhGg2gxEP",
        "outputId": "495ab6a8-4e8a-4b54-f47e-13f28d20a46c"
      },
      "id": "HSjRhGg2gxEP",
      "execution_count": null,
      "outputs": [
        {
          "output_type": "display_data",
          "data": {
            "text/plain": [
              "<Figure size 1080x1080 with 1 Axes>"
            ],
            "image/png": "[encoded data removed]"
          },
          "metadata": {
            "needs_background": "light"
          }
        }
      ]
    },
    {
      "cell_type": "markdown",
      "source": [
        "subscribers between 0 to 50000 have more id and more rating in between range 4 to 5 and whose subscribers more than 100000 having rating 4.5"
      ],
      "metadata": {
        "id": "dYBUdxXXHVHw"
      },
      "id": "dYBUdxXXHVHw"
    },
    {
      "cell_type": "code",
      "source": [
        "plt.figure(figsize= (15,15))\n",
        "plt.scatter('num_subscribers','avg_rating_recent',data = df)\n",
        "plt.xlabel('No_of_subscribers')\n",
        "plt.ylabel('Rating_out_of_5')\n",
        "plt.show()"
      ],
      "metadata": {
        "colab": {
          "base_uri": "https://localhost:8080/",
          "height": 878
        },
        "id": "IWF4Fm2YFeM1",
        "outputId": "369d77af-4d9e-4d3f-cfe5-967bddcbb529"
      },
      "id": "IWF4Fm2YFeM1",
      "execution_count": null,
      "outputs": [
        {
          "output_type": "display_data",
          "data": {
            "text/plain": [
              "<Figure size 1080x1080 with 1 Axes>"
            ],
            "image/png": "[encoded data removed]"
          },
          "metadata": {
            "needs_background": "light"
          }
        }
      ]
    },
    {
      "cell_type": "markdown",
      "source": [
        "not more difference between rating and avg_rating"
      ],
      "metadata": {
        "id": "1KZxhQVoIiWX"
      },
      "id": "1KZxhQVoIiWX"
    },
    {
      "cell_type": "code",
      "source": [
        "plt.figure(figsize= (15,15))\n",
        "plt.bar(df['title'],df['num_subscribers'],color = 'maroon',width = 0.4)"
      ],
      "metadata": {
        "colab": {
          "base_uri": "https://localhost:8080/",
          "height": 1000
        },
        "id": "FTZNmOhyvTNQ",
        "outputId": "fe8f31c0-1942-431b-90ef-819a54e75d26"
      },
      "id": "FTZNmOhyvTNQ",
      "execution_count": null,
      "outputs": [
        {
          "output_type": "execute_result",
          "data": {
            "text/plain": [
              "<BarContainer object of 8937 artists>"
            ]
          },
          "metadata": {},
          "execution_count": 26
        },
        {
          "output_type": "stream",
          "name": "stderr",
          "text": [
            "/usr/local/lib/python3.7/dist-packages/matplotlib/backends/backend_agg.py:214: RuntimeWarning: Glyph 12304 missing from current font.\n",
            "  font.set_text(s, 0.0, flags=flags)\n",
            "/usr/local/lib/python3.7/dist-packages/matplotlib/backends/backend_agg.py:214: RuntimeWarning: Glyph 19990 missing from current font.\n",
            "  font.set_text(s, 0.0, flags=flags)\n",
            "/usr/local/lib/python3.7/dist-packages/matplotlib/backends/backend_agg.py:214: RuntimeWarning: Glyph 30028 missing from current font.\n",
            "  font.set_text(s, 0.0, flags=flags)\n",
            "/usr/local/lib/python3.7/dist-packages/matplotlib/backends/backend_agg.py:214: RuntimeWarning: Glyph 12391 missing from current font.\n",
            "  font.set_text(s, 0.0, flags=flags)\n",
            "/usr/local/lib/python3.7/dist-packages/matplotlib/backends/backend_agg.py:214: RuntimeWarning: Glyph 65299 missing from current font.\n",
            "  font.set_text(s, 0.0, flags=flags)\n",
            "/usr/local/lib/python3.7/dist-packages/matplotlib/backends/backend_agg.py:214: RuntimeWarning: Glyph 19975 missing from current font.\n",
            "  font.set_text(s, 0.0, flags=flags)\n",
            "/usr/local/lib/python3.7/dist-packages/matplotlib/backends/backend_agg.py:214: RuntimeWarning: Glyph 20154 missing from current font.\n",
            "  font.set_text(s, 0.0, flags=flags)\n",
            "/usr/local/lib/python3.7/dist-packages/matplotlib/backends/backend_agg.py:214: RuntimeWarning: Glyph 20197 missing from current font.\n",
            "  font.set_text(s, 0.0, flags=flags)\n",
            "/usr/local/lib/python3.7/dist-packages/matplotlib/backends/backend_agg.py:214: RuntimeWarning: Glyph 19978 missing from current font.\n",
            "  font.set_text(s, 0.0, flags=flags)\n",
            "/usr/local/lib/python3.7/dist-packages/matplotlib/backends/backend_agg.py:214: RuntimeWarning: Glyph 12364 missing from current font.\n",
            "  font.set_text(s, 0.0, flags=flags)\n",
            "/usr/local/lib/python3.7/dist-packages/matplotlib/backends/backend_agg.py:214: RuntimeWarning: Glyph 21463 missing from current font.\n",
            "  font.set_text(s, 0.0, flags=flags)\n",
            "/usr/local/lib/python3.7/dist-packages/matplotlib/backends/backend_agg.py:214: RuntimeWarning: Glyph 35611 missing from current font.\n",
            "  font.set_text(s, 0.0, flags=flags)\n",
            "/usr/local/lib/python3.7/dist-packages/matplotlib/backends/backend_agg.py:214: RuntimeWarning: Glyph 12305 missing from current font.\n",
            "  font.set_text(s, 0.0, flags=flags)\n",
            "/usr/local/lib/python3.7/dist-packages/matplotlib/backends/backend_agg.py:214: RuntimeWarning: Glyph 12300 missing from current font.\n",
            "  font.set_text(s, 0.0, flags=flags)\n",
            "/usr/local/lib/python3.7/dist-packages/matplotlib/backends/backend_agg.py:214: RuntimeWarning: Glyph 33521 missing from current font.\n",
            "  font.set_text(s, 0.0, flags=flags)\n",
            "/usr/local/lib/python3.7/dist-packages/matplotlib/backends/backend_agg.py:214: RuntimeWarning: Glyph 35486 missing from current font.\n",
            "  font.set_text(s, 0.0, flags=flags)\n",
            "/usr/local/lib/python3.7/dist-packages/matplotlib/backends/backend_agg.py:214: RuntimeWarning: Glyph 12398 missing from current font.\n",
            "  font.set_text(s, 0.0, flags=flags)\n",
            "/usr/local/lib/python3.7/dist-packages/matplotlib/backends/backend_agg.py:214: RuntimeWarning: Glyph 20250 missing from current font.\n",
            "  font.set_text(s, 0.0, flags=flags)\n",
            "/usr/local/lib/python3.7/dist-packages/matplotlib/backends/backend_agg.py:214: RuntimeWarning: Glyph 35696 missing from current font.\n",
            "  font.set_text(s, 0.0, flags=flags)\n",
            "/usr/local/lib/python3.7/dist-packages/matplotlib/backends/backend_agg.py:214: RuntimeWarning: Glyph 21213 missing from current font.\n",
            "  font.set_text(s, 0.0, flags=flags)\n",
            "/usr/local/lib/python3.7/dist-packages/matplotlib/backends/backend_agg.py:214: RuntimeWarning: Glyph 12388 missing from current font.\n",
            "  font.set_text(s, 0.0, flags=flags)\n",
            "/usr/local/lib/python3.7/dist-packages/matplotlib/backends/backend_agg.py:214: RuntimeWarning: Glyph 65281 missing from current font.\n",
            "  font.set_text(s, 0.0, flags=flags)\n",
            "/usr/local/lib/python3.7/dist-packages/matplotlib/backends/backend_agg.py:214: RuntimeWarning: Glyph 12301 missing from current font.\n",
            "  font.set_text(s, 0.0, flags=flags)\n",
            "/usr/local/lib/python3.7/dist-packages/matplotlib/backends/backend_agg.py:214: RuntimeWarning: Glyph 26368 missing from current font.\n",
            "  font.set_text(s, 0.0, flags=flags)\n",
            "/usr/local/lib/python3.7/dist-packages/matplotlib/backends/backend_agg.py:214: RuntimeWarning: Glyph 24375 missing from current font.\n",
            "  font.set_text(s, 0.0, flags=flags)\n",
            "/usr/local/lib/python3.7/dist-packages/matplotlib/backends/backend_agg.py:214: RuntimeWarning: Glyph 12508 missing from current font.\n",
            "  font.set_text(s, 0.0, flags=flags)\n",
            "/usr/local/lib/python3.7/dist-packages/matplotlib/backends/backend_agg.py:214: RuntimeWarning: Glyph 12487 missing from current font.\n",
            "  font.set_text(s, 0.0, flags=flags)\n",
            "/usr/local/lib/python3.7/dist-packages/matplotlib/backends/backend_agg.py:214: RuntimeWarning: Glyph 12451 missing from current font.\n",
            "  font.set_text(s, 0.0, flags=flags)\n",
            "/usr/local/lib/python3.7/dist-packages/matplotlib/backends/backend_agg.py:214: RuntimeWarning: Glyph 12521 missing from current font.\n",
            "  font.set_text(s, 0.0, flags=flags)\n",
            "/usr/local/lib/python3.7/dist-packages/matplotlib/backends/backend_agg.py:214: RuntimeWarning: Glyph 12531 missing from current font.\n",
            "  font.set_text(s, 0.0, flags=flags)\n",
            "/usr/local/lib/python3.7/dist-packages/matplotlib/backends/backend_agg.py:214: RuntimeWarning: Glyph 12466 missing from current font.\n",
            "  font.set_text(s, 0.0, flags=flags)\n",
            "/usr/local/lib/python3.7/dist-packages/matplotlib/backends/backend_agg.py:214: RuntimeWarning: Glyph 12540 missing from current font.\n",
            "  font.set_text(s, 0.0, flags=flags)\n",
            "/usr/local/lib/python3.7/dist-packages/matplotlib/backends/backend_agg.py:214: RuntimeWarning: Glyph 12472 missing from current font.\n",
            "  font.set_text(s, 0.0, flags=flags)\n",
            "/usr/local/lib/python3.7/dist-packages/matplotlib/backends/backend_agg.py:214: RuntimeWarning: Glyph 24231 missing from current font.\n",
            "  font.set_text(s, 0.0, flags=flags)\n",
            "/usr/local/lib/python3.7/dist-packages/matplotlib/backends/backend_agg.py:214: RuntimeWarning: Glyph 20013 missing from current font.\n",
            "  font.set_text(s, 0.0, flags=flags)\n",
            "/usr/local/lib/python3.7/dist-packages/matplotlib/backends/backend_agg.py:214: RuntimeWarning: Glyph 22269 missing from current font.\n",
            "  font.set_text(s, 0.0, flags=flags)\n",
            "/usr/local/lib/python3.7/dist-packages/matplotlib/backends/backend_agg.py:214: RuntimeWarning: Glyph 12471 missing from current font.\n",
            "  font.set_text(s, 0.0, flags=flags)\n",
            "/usr/local/lib/python3.7/dist-packages/matplotlib/backends/backend_agg.py:214: RuntimeWarning: Glyph 12522 missing from current font.\n",
            "  font.set_text(s, 0.0, flags=flags)\n",
            "/usr/local/lib/python3.7/dist-packages/matplotlib/backends/backend_agg.py:214: RuntimeWarning: Glyph 12467 missing from current font.\n",
            "  font.set_text(s, 0.0, flags=flags)\n",
            "/usr/local/lib/python3.7/dist-packages/matplotlib/backends/backend_agg.py:214: RuntimeWarning: Glyph 12496 missing from current font.\n",
            "  font.set_text(s, 0.0, flags=flags)\n",
            "/usr/local/lib/python3.7/dist-packages/matplotlib/backends/backend_agg.py:214: RuntimeWarning: Glyph 12524 missing from current font.\n",
            "  font.set_text(s, 0.0, flags=flags)\n",
            "/usr/local/lib/python3.7/dist-packages/matplotlib/backends/backend_agg.py:214: RuntimeWarning: Glyph 27969 missing from current font.\n",
            "  font.set_text(s, 0.0, flags=flags)\n",
            "/usr/local/lib/python3.7/dist-packages/matplotlib/backends/backend_agg.py:214: RuntimeWarning: Glyph 12499 missing from current font.\n",
            "  font.set_text(s, 0.0, flags=flags)\n",
            "/usr/local/lib/python3.7/dist-packages/matplotlib/backends/backend_agg.py:214: RuntimeWarning: Glyph 12493 missing from current font.\n",
            "  font.set_text(s, 0.0, flags=flags)\n",
            "/usr/local/lib/python3.7/dist-packages/matplotlib/backends/backend_agg.py:214: RuntimeWarning: Glyph 12473 missing from current font.\n",
            "  font.set_text(s, 0.0, flags=flags)\n",
            "/usr/local/lib/python3.7/dist-packages/matplotlib/backends/backend_agg.py:214: RuntimeWarning: Glyph 12450 missing from current font.\n",
            "  font.set_text(s, 0.0, flags=flags)\n",
            "/usr/local/lib/python3.7/dist-packages/matplotlib/backends/backend_agg.py:214: RuntimeWarning: Glyph 12452 missing from current font.\n",
            "  font.set_text(s, 0.0, flags=flags)\n",
            "/usr/local/lib/python3.7/dist-packages/matplotlib/backends/backend_agg.py:214: RuntimeWarning: Glyph 30330 missing from current font.\n",
            "  font.set_text(s, 0.0, flags=flags)\n",
            "/usr/local/lib/python3.7/dist-packages/matplotlib/backends/backend_agg.py:214: RuntimeWarning: Glyph 24819 missing from current font.\n",
            "  font.set_text(s, 0.0, flags=flags)\n",
            "/usr/local/lib/python3.7/dist-packages/matplotlib/backends/backend_agg.py:214: RuntimeWarning: Glyph 34899 missing from current font.\n",
            "  font.set_text(s, 0.0, flags=flags)\n",
            "/usr/local/lib/python3.7/dist-packages/matplotlib/backends/backend_agg.py:214: RuntimeWarning: Glyph 12288 missing from current font.\n",
            "  font.set_text(s, 0.0, flags=flags)\n",
            "/usr/local/lib/python3.7/dist-packages/matplotlib/backends/backend_agg.py:214: RuntimeWarning: Glyph 65374 missing from current font.\n",
            "  font.set_text(s, 0.0, flags=flags)\n",
            "/usr/local/lib/python3.7/dist-packages/matplotlib/backends/backend_agg.py:214: RuntimeWarning: Glyph 20107 missing from current font.\n",
            "  font.set_text(s, 0.0, flags=flags)\n",
            "/usr/local/lib/python3.7/dist-packages/matplotlib/backends/backend_agg.py:214: RuntimeWarning: Glyph 26989 missing from current font.\n",
            "  font.set_text(s, 0.0, flags=flags)\n",
            "/usr/local/lib/python3.7/dist-packages/matplotlib/backends/backend_agg.py:214: RuntimeWarning: Glyph 31435 missing from current font.\n",
            "  font.set_text(s, 0.0, flags=flags)\n",
            "/usr/local/lib/python3.7/dist-packages/matplotlib/backends/backend_agg.py:214: RuntimeWarning: Glyph 26696 missing from current font.\n",
            "  font.set_text(s, 0.0, flags=flags)\n",
            "/usr/local/lib/python3.7/dist-packages/matplotlib/backends/backend_agg.py:214: RuntimeWarning: Glyph 12527 missing from current font.\n",
            "  font.set_text(s, 0.0, flags=flags)\n",
            "/usr/local/lib/python3.7/dist-packages/matplotlib/backends/backend_agg.py:214: RuntimeWarning: Glyph 12463 missing from current font.\n",
            "  font.set_text(s, 0.0, flags=flags)\n",
            "/usr/local/lib/python3.7/dist-packages/matplotlib/backends/backend_agg.py:214: RuntimeWarning: Glyph 12519 missing from current font.\n",
            "  font.set_text(s, 0.0, flags=flags)\n",
            "/usr/local/lib/python3.7/dist-packages/matplotlib/backends/backend_agg.py:214: RuntimeWarning: Glyph 12483 missing from current font.\n",
            "  font.set_text(s, 0.0, flags=flags)\n",
            "/usr/local/lib/python3.7/dist-packages/matplotlib/backends/backend_agg.py:214: RuntimeWarning: Glyph 12503 missing from current font.\n",
            "  font.set_text(s, 0.0, flags=flags)\n",
            "/usr/local/lib/python3.7/dist-packages/matplotlib/backends/backend_agg.py:183: RuntimeWarning: Glyph 12304 missing from current font.\n",
            "  font.set_text(s, 0, flags=flags)\n",
            "/usr/local/lib/python3.7/dist-packages/matplotlib/backends/backend_agg.py:183: RuntimeWarning: Glyph 19990 missing from current font.\n",
            "  font.set_text(s, 0, flags=flags)\n",
            "/usr/local/lib/python3.7/dist-packages/matplotlib/backends/backend_agg.py:183: RuntimeWarning: Glyph 30028 missing from current font.\n",
            "  font.set_text(s, 0, flags=flags)\n",
            "/usr/local/lib/python3.7/dist-packages/matplotlib/backends/backend_agg.py:183: RuntimeWarning: Glyph 12391 missing from current font.\n",
            "  font.set_text(s, 0, flags=flags)\n",
            "/usr/local/lib/python3.7/dist-packages/matplotlib/backends/backend_agg.py:183: RuntimeWarning: Glyph 65299 missing from current font.\n",
            "  font.set_text(s, 0, flags=flags)\n",
            "/usr/local/lib/python3.7/dist-packages/matplotlib/backends/backend_agg.py:183: RuntimeWarning: Glyph 19975 missing from current font.\n",
            "  font.set_text(s, 0, flags=flags)\n",
            "/usr/local/lib/python3.7/dist-packages/matplotlib/backends/backend_agg.py:183: RuntimeWarning: Glyph 20154 missing from current font.\n",
            "  font.set_text(s, 0, flags=flags)\n",
            "/usr/local/lib/python3.7/dist-packages/matplotlib/backends/backend_agg.py:183: RuntimeWarning: Glyph 20197 missing from current font.\n",
            "  font.set_text(s, 0, flags=flags)\n",
            "/usr/local/lib/python3.7/dist-packages/matplotlib/backends/backend_agg.py:183: RuntimeWarning: Glyph 19978 missing from current font.\n",
            "  font.set_text(s, 0, flags=flags)\n",
            "/usr/local/lib/python3.7/dist-packages/matplotlib/backends/backend_agg.py:183: RuntimeWarning: Glyph 12364 missing from current font.\n",
            "  font.set_text(s, 0, flags=flags)\n",
            "/usr/local/lib/python3.7/dist-packages/matplotlib/backends/backend_agg.py:183: RuntimeWarning: Glyph 21463 missing from current font.\n",
            "  font.set_text(s, 0, flags=flags)\n",
            "/usr/local/lib/python3.7/dist-packages/matplotlib/backends/backend_agg.py:183: RuntimeWarning: Glyph 35611 missing from current font.\n",
            "  font.set_text(s, 0, flags=flags)\n",
            "/usr/local/lib/python3.7/dist-packages/matplotlib/backends/backend_agg.py:183: RuntimeWarning: Glyph 12305 missing from current font.\n",
            "  font.set_text(s, 0, flags=flags)\n",
            "/usr/local/lib/python3.7/dist-packages/matplotlib/backends/backend_agg.py:183: RuntimeWarning: Glyph 12300 missing from current font.\n",
            "  font.set_text(s, 0, flags=flags)\n",
            "/usr/local/lib/python3.7/dist-packages/matplotlib/backends/backend_agg.py:183: RuntimeWarning: Glyph 33521 missing from current font.\n",
            "  font.set_text(s, 0, flags=flags)\n",
            "/usr/local/lib/python3.7/dist-packages/matplotlib/backends/backend_agg.py:183: RuntimeWarning: Glyph 35486 missing from current font.\n",
            "  font.set_text(s, 0, flags=flags)\n",
            "/usr/local/lib/python3.7/dist-packages/matplotlib/backends/backend_agg.py:183: RuntimeWarning: Glyph 12398 missing from current font.\n",
            "  font.set_text(s, 0, flags=flags)\n",
            "/usr/local/lib/python3.7/dist-packages/matplotlib/backends/backend_agg.py:183: RuntimeWarning: Glyph 20250 missing from current font.\n",
            "  font.set_text(s, 0, flags=flags)\n",
            "/usr/local/lib/python3.7/dist-packages/matplotlib/backends/backend_agg.py:183: RuntimeWarning: Glyph 35696 missing from current font.\n",
            "  font.set_text(s, 0, flags=flags)\n",
            "/usr/local/lib/python3.7/dist-packages/matplotlib/backends/backend_agg.py:183: RuntimeWarning: Glyph 21213 missing from current font.\n",
            "  font.set_text(s, 0, flags=flags)\n",
            "/usr/local/lib/python3.7/dist-packages/matplotlib/backends/backend_agg.py:183: RuntimeWarning: Glyph 12388 missing from current font.\n",
            "  font.set_text(s, 0, flags=flags)\n",
            "/usr/local/lib/python3.7/dist-packages/matplotlib/backends/backend_agg.py:183: RuntimeWarning: Glyph 65281 missing from current font.\n",
            "  font.set_text(s, 0, flags=flags)\n",
            "/usr/local/lib/python3.7/dist-packages/matplotlib/backends/backend_agg.py:183: RuntimeWarning: Glyph 12301 missing from current font.\n",
            "  font.set_text(s, 0, flags=flags)\n",
            "/usr/local/lib/python3.7/dist-packages/matplotlib/backends/backend_agg.py:183: RuntimeWarning: Glyph 26368 missing from current font.\n",
            "  font.set_text(s, 0, flags=flags)\n",
            "/usr/local/lib/python3.7/dist-packages/matplotlib/backends/backend_agg.py:183: RuntimeWarning: Glyph 24375 missing from current font.\n",
            "  font.set_text(s, 0, flags=flags)\n",
            "/usr/local/lib/python3.7/dist-packages/matplotlib/backends/backend_agg.py:183: RuntimeWarning: Glyph 12508 missing from current font.\n",
            "  font.set_text(s, 0, flags=flags)\n",
            "/usr/local/lib/python3.7/dist-packages/matplotlib/backends/backend_agg.py:183: RuntimeWarning: Glyph 12487 missing from current font.\n",
            "  font.set_text(s, 0, flags=flags)\n",
            "/usr/local/lib/python3.7/dist-packages/matplotlib/backends/backend_agg.py:183: RuntimeWarning: Glyph 12451 missing from current font.\n",
            "  font.set_text(s, 0, flags=flags)\n",
            "/usr/local/lib/python3.7/dist-packages/matplotlib/backends/backend_agg.py:183: RuntimeWarning: Glyph 12521 missing from current font.\n",
            "  font.set_text(s, 0, flags=flags)\n",
            "/usr/local/lib/python3.7/dist-packages/matplotlib/backends/backend_agg.py:183: RuntimeWarning: Glyph 12531 missing from current font.\n",
            "  font.set_text(s, 0, flags=flags)\n",
            "/usr/local/lib/python3.7/dist-packages/matplotlib/backends/backend_agg.py:183: RuntimeWarning: Glyph 12466 missing from current font.\n",
            "  font.set_text(s, 0, flags=flags)\n",
            "/usr/local/lib/python3.7/dist-packages/matplotlib/backends/backend_agg.py:183: RuntimeWarning: Glyph 12540 missing from current font.\n",
            "  font.set_text(s, 0, flags=flags)\n",
            "/usr/local/lib/python3.7/dist-packages/matplotlib/backends/backend_agg.py:183: RuntimeWarning: Glyph 12472 missing from current font.\n",
            "  font.set_text(s, 0, flags=flags)\n",
            "/usr/local/lib/python3.7/dist-packages/matplotlib/backends/backend_agg.py:183: RuntimeWarning: Glyph 24231 missing from current font.\n",
            "  font.set_text(s, 0, flags=flags)\n",
            "/usr/local/lib/python3.7/dist-packages/matplotlib/backends/backend_agg.py:183: RuntimeWarning: Glyph 20013 missing from current font.\n",
            "  font.set_text(s, 0, flags=flags)\n",
            "/usr/local/lib/python3.7/dist-packages/matplotlib/backends/backend_agg.py:183: RuntimeWarning: Glyph 22269 missing from current font.\n",
            "  font.set_text(s, 0, flags=flags)\n",
            "/usr/local/lib/python3.7/dist-packages/matplotlib/backends/backend_agg.py:183: RuntimeWarning: Glyph 12471 missing from current font.\n",
            "  font.set_text(s, 0, flags=flags)\n",
            "/usr/local/lib/python3.7/dist-packages/matplotlib/backends/backend_agg.py:183: RuntimeWarning: Glyph 12522 missing from current font.\n",
            "  font.set_text(s, 0, flags=flags)\n",
            "/usr/local/lib/python3.7/dist-packages/matplotlib/backends/backend_agg.py:183: RuntimeWarning: Glyph 12467 missing from current font.\n",
            "  font.set_text(s, 0, flags=flags)\n",
            "/usr/local/lib/python3.7/dist-packages/matplotlib/backends/backend_agg.py:183: RuntimeWarning: Glyph 12496 missing from current font.\n",
            "  font.set_text(s, 0, flags=flags)\n",
            "/usr/local/lib/python3.7/dist-packages/matplotlib/backends/backend_agg.py:183: RuntimeWarning: Glyph 12524 missing from current font.\n",
            "  font.set_text(s, 0, flags=flags)\n",
            "/usr/local/lib/python3.7/dist-packages/matplotlib/backends/backend_agg.py:183: RuntimeWarning: Glyph 27969 missing from current font.\n",
            "  font.set_text(s, 0, flags=flags)\n",
            "/usr/local/lib/python3.7/dist-packages/matplotlib/backends/backend_agg.py:183: RuntimeWarning: Glyph 12499 missing from current font.\n",
            "  font.set_text(s, 0, flags=flags)\n",
            "/usr/local/lib/python3.7/dist-packages/matplotlib/backends/backend_agg.py:183: RuntimeWarning: Glyph 12493 missing from current font.\n",
            "  font.set_text(s, 0, flags=flags)\n",
            "/usr/local/lib/python3.7/dist-packages/matplotlib/backends/backend_agg.py:183: RuntimeWarning: Glyph 12473 missing from current font.\n",
            "  font.set_text(s, 0, flags=flags)\n",
            "/usr/local/lib/python3.7/dist-packages/matplotlib/backends/backend_agg.py:183: RuntimeWarning: Glyph 12450 missing from current font.\n",
            "  font.set_text(s, 0, flags=flags)\n",
            "/usr/local/lib/python3.7/dist-packages/matplotlib/backends/backend_agg.py:183: RuntimeWarning: Glyph 12452 missing from current font.\n",
            "  font.set_text(s, 0, flags=flags)\n",
            "/usr/local/lib/python3.7/dist-packages/matplotlib/backends/backend_agg.py:183: RuntimeWarning: Glyph 30330 missing from current font.\n",
            "  font.set_text(s, 0, flags=flags)\n",
            "/usr/local/lib/python3.7/dist-packages/matplotlib/backends/backend_agg.py:183: RuntimeWarning: Glyph 24819 missing from current font.\n",
            "  font.set_text(s, 0, flags=flags)\n",
            "/usr/local/lib/python3.7/dist-packages/matplotlib/backends/backend_agg.py:183: RuntimeWarning: Glyph 34899 missing from current font.\n",
            "  font.set_text(s, 0, flags=flags)\n",
            "/usr/local/lib/python3.7/dist-packages/matplotlib/backends/backend_agg.py:183: RuntimeWarning: Glyph 12288 missing from current font.\n",
            "  font.set_text(s, 0, flags=flags)\n",
            "/usr/local/lib/python3.7/dist-packages/matplotlib/backends/backend_agg.py:183: RuntimeWarning: Glyph 65374 missing from current font.\n",
            "  font.set_text(s, 0, flags=flags)\n",
            "/usr/local/lib/python3.7/dist-packages/matplotlib/backends/backend_agg.py:183: RuntimeWarning: Glyph 20107 missing from current font.\n",
            "  font.set_text(s, 0, flags=flags)\n",
            "/usr/local/lib/python3.7/dist-packages/matplotlib/backends/backend_agg.py:183: RuntimeWarning: Glyph 26989 missing from current font.\n",
            "  font.set_text(s, 0, flags=flags)\n",
            "/usr/local/lib/python3.7/dist-packages/matplotlib/backends/backend_agg.py:183: RuntimeWarning: Glyph 31435 missing from current font.\n",
            "  font.set_text(s, 0, flags=flags)\n",
            "/usr/local/lib/python3.7/dist-packages/matplotlib/backends/backend_agg.py:183: RuntimeWarning: Glyph 26696 missing from current font.\n",
            "  font.set_text(s, 0, flags=flags)\n",
            "/usr/local/lib/python3.7/dist-packages/matplotlib/backends/backend_agg.py:183: RuntimeWarning: Glyph 12527 missing from current font.\n",
            "  font.set_text(s, 0, flags=flags)\n",
            "/usr/local/lib/python3.7/dist-packages/matplotlib/backends/backend_agg.py:183: RuntimeWarning: Glyph 12463 missing from current font.\n",
            "  font.set_text(s, 0, flags=flags)\n",
            "/usr/local/lib/python3.7/dist-packages/matplotlib/backends/backend_agg.py:183: RuntimeWarning: Glyph 12519 missing from current font.\n",
            "  font.set_text(s, 0, flags=flags)\n",
            "/usr/local/lib/python3.7/dist-packages/matplotlib/backends/backend_agg.py:183: RuntimeWarning: Glyph 12483 missing from current font.\n",
            "  font.set_text(s, 0, flags=flags)\n",
            "/usr/local/lib/python3.7/dist-packages/matplotlib/backends/backend_agg.py:183: RuntimeWarning: Glyph 12503 missing from current font.\n",
            "  font.set_text(s, 0, flags=flags)\n"
          ]
        },
        {
          "output_type": "display_data",
          "data": {
            "text/plain": [
              "<Figure size 1080x1080 with 1 Axes>"
            ],
            "image/png": "[encoded data removed]"
          },
          "metadata": {
            "needs_background": "light"
          }
        }
      ]
    },
    {
      "cell_type": "code",
      "source": [
        "plt.figure(figsize = (10,10))\n",
        "plt.subplot(121)\n",
        "plt.title(\"no_of_subscribers\")\n",
        "sns.distplot(df['num_subscribers'])\n",
        "\n",
        "plt.subplot(122)\n",
        "plt.title(\"no_of_subscribers_outliers\")\n",
        "sns.boxplot(y = df['num_subscribers'])\n",
        "plt.show()"
      ],
      "metadata": {
        "colab": {
          "base_uri": "https://localhost:8080/",
          "height": 677
        },
        "id": "GGW7y4-lICfM",
        "outputId": "b1f9c0ad-48ec-4860-a5f3-9748476ac816"
      },
      "id": "GGW7y4-lICfM",
      "execution_count": null,
      "outputs": [
        {
          "output_type": "stream",
          "name": "stderr",
          "text": [
            "/usr/local/lib/python3.7/dist-packages/seaborn/distributions.py:2619: FutureWarning: `distplot` is a deprecated function and will be removed in a future version. Please adapt your code to use either `displot` (a figure-level function with similar flexibility) or `histplot` (an axes-level function for histograms).\n",
            "  warnings.warn(msg, FutureWarning)\n"
          ]
        },
        {
          "output_type": "display_data",
          "data": {
            "text/plain": [
              "<Figure size 720x720 with 2 Axes>"
            ],
            "image/png": "[encoded data removed]"
          },
          "metadata": {
            "needs_background": "light"
          }
        }
      ]
    },
    {
      "cell_type": "markdown",
      "source": [
        "there is more no of outliers present in no of subscribers from 50000 "
      ],
      "metadata": {
        "id": "IoYWO6qCIxIJ"
      },
      "id": "IoYWO6qCIxIJ"
    },
    {
      "cell_type": "code",
      "source": [
        "plt.figure(figsize = (10,10))\n",
        "plt.subplot(121)\n",
        "plt.title(\"rating\")\n",
        "sns.distplot(df['rating'])\n",
        "\n",
        "plt.subplot(122)\n",
        "plt.title(\"rating_outliers\")\n",
        "sns.boxplot(y = df['rating'])\n",
        "plt.show()"
      ],
      "metadata": {
        "colab": {
          "base_uri": "https://localhost:8080/",
          "height": 676
        },
        "id": "oJvwdDWkJJFp",
        "outputId": "2039bf89-e8dd-48a9-d07d-8ce4faacb224"
      },
      "id": "oJvwdDWkJJFp",
      "execution_count": null,
      "outputs": [
        {
          "output_type": "stream",
          "name": "stderr",
          "text": [
            "/usr/local/lib/python3.7/dist-packages/seaborn/distributions.py:2619: FutureWarning: `distplot` is a deprecated function and will be removed in a future version. Please adapt your code to use either `displot` (a figure-level function with similar flexibility) or `histplot` (an axes-level function for histograms).\n",
            "  warnings.warn(msg, FutureWarning)\n"
          ]
        },
        {
          "output_type": "display_data",
          "data": {
            "text/plain": [
              "<Figure size 720x720 with 2 Axes>"
            ],
            "image/png": "[encoded data removed]"
          },
          "metadata": {
            "needs_background": "light"
          }
        }
      ]
    },
    {
      "cell_type": "markdown",
      "source": [
        "outliers in rating from 1 to 3 rating range and from density chart 4 is having more density"
      ],
      "metadata": {
        "id": "k1dL4vfyJFCt"
      },
      "id": "k1dL4vfyJFCt"
    },
    {
      "cell_type": "code",
      "source": [
        "plt.figure(figsize = (10,10))\n",
        "plt.subplot(121)\n",
        "plt.title(\"num_reviews\")\n",
        "sns.distplot(df['num_reviews'])\n",
        "\n",
        "plt.subplot(122)\n",
        "plt.title(\"num_reviews\")\n",
        "sns.boxplot(y = df['num_reviews'])\n",
        "plt.show()"
      ],
      "metadata": {
        "id": "WMKa-RHLKCNj",
        "colab": {
          "base_uri": "https://localhost:8080/",
          "height": 677
        },
        "outputId": "ae5055cb-0b92-46be-fc28-4eb961ec351a"
      },
      "id": "WMKa-RHLKCNj",
      "execution_count": null,
      "outputs": [
        {
          "output_type": "stream",
          "name": "stderr",
          "text": [
            "/usr/local/lib/python3.7/dist-packages/seaborn/distributions.py:2619: FutureWarning: `distplot` is a deprecated function and will be removed in a future version. Please adapt your code to use either `displot` (a figure-level function with similar flexibility) or `histplot` (an axes-level function for histograms).\n",
            "  warnings.warn(msg, FutureWarning)\n"
          ]
        },
        {
          "output_type": "display_data",
          "data": {
            "text/plain": [
              "<Figure size 720x720 with 2 Axes>"
            ],
            "image/png": "[encoded data removed]"
          },
          "metadata": {
            "needs_background": "light"
          }
        }
      ]
    },
    {
      "cell_type": "markdown",
      "source": [
        "many outliers present in no of reviews "
      ],
      "metadata": {
        "id": "Hc4f_9h2KOZ3"
      },
      "id": "Hc4f_9h2KOZ3"
    },
    {
      "cell_type": "code",
      "source": [
        "plt.figure(figsize = (10,10))\n",
        "plt.subplot(121)\n",
        "plt.title(\"published_lectures\")\n",
        "sns.distplot(df['num_published_lectures'])\n",
        "\n",
        "plt.subplot(122)\n",
        "plt.title(\"published_lectures\")\n",
        "sns.boxplot(y = df['num_published_lectures'])\n",
        "plt.show()"
      ],
      "metadata": {
        "colab": {
          "base_uri": "https://localhost:8080/",
          "height": 677
        },
        "id": "e8pBYU8Kaac4",
        "outputId": "73b85ef4-56a2-4c2b-84e7-331df333bf65"
      },
      "id": "e8pBYU8Kaac4",
      "execution_count": null,
      "outputs": [
        {
          "output_type": "stream",
          "name": "stderr",
          "text": [
            "/usr/local/lib/python3.7/dist-packages/seaborn/distributions.py:2619: FutureWarning: `distplot` is a deprecated function and will be removed in a future version. Please adapt your code to use either `displot` (a figure-level function with similar flexibility) or `histplot` (an axes-level function for histograms).\n",
            "  warnings.warn(msg, FutureWarning)\n"
          ]
        },
        {
          "output_type": "display_data",
          "data": {
            "text/plain": [
              "<Figure size 720x720 with 2 Axes>"
            ],
            "image/png": "[encoded data removed]"
          },
          "metadata": {
            "needs_background": "light"
          }
        }
      ]
    },
    {
      "cell_type": "markdown",
      "source": [
        "outliers present in published lectures from 100 to 700 and from density chart its seen that most density ranfe from 0 to 200"
      ],
      "metadata": {
        "id": "zUr1oJjLKnLW"
      },
      "id": "zUr1oJjLKnLW"
    },
    {
      "cell_type": "code",
      "source": [
        "plt.figure(figsize = (10,10))\n",
        "plt.subplot(121)\n",
        "plt.title(\"discount_price__amount\")\n",
        "sns.distplot(df['discount_price__amount'])\n",
        "\n",
        "plt.subplot(122)\n",
        "plt.title(\"discount_price__amount\")\n",
        "sns.boxplot(y = df['discount_price__amount'])\n",
        "plt.show()"
      ],
      "metadata": {
        "colab": {
          "base_uri": "https://localhost:8080/",
          "height": 677
        },
        "id": "z5ILcpQ5e7Id",
        "outputId": "3ca816d7-e91f-4d5e-8a89-7df661940928"
      },
      "id": "z5ILcpQ5e7Id",
      "execution_count": null,
      "outputs": [
        {
          "output_type": "stream",
          "name": "stderr",
          "text": [
            "/usr/local/lib/python3.7/dist-packages/seaborn/distributions.py:2619: FutureWarning: `distplot` is a deprecated function and will be removed in a future version. Please adapt your code to use either `displot` (a figure-level function with similar flexibility) or `histplot` (an axes-level function for histograms).\n",
            "  warnings.warn(msg, FutureWarning)\n"
          ]
        },
        {
          "output_type": "display_data",
          "data": {
            "text/plain": [
              "<Figure size 720x720 with 2 Axes>"
            ],
            "image/png": "[encoded data removed]"
          },
          "metadata": {
            "needs_background": "light"
          }
        }
      ]
    },
    {
      "cell_type": "code",
      "source": [
        "plt.figure(figsize = (10,10))\n",
        "plt.subplot(121)\n",
        "plt.title(\"price_detail__amount\")\n",
        "sns.distplot(df['price_detail__amount'])\n",
        "\n",
        "plt.subplot(122)\n",
        "plt.title(\"price_detail__amount\")\n",
        "sns.boxplot(y = df['price_detail__amount'])\n",
        "plt.show()"
      ],
      "metadata": {
        "colab": {
          "base_uri": "https://localhost:8080/",
          "height": 677
        },
        "id": "hFiycVJ1fQrE",
        "outputId": "69b14387-d28d-472c-988a-f6708bc68a8c"
      },
      "id": "hFiycVJ1fQrE",
      "execution_count": null,
      "outputs": [
        {
          "output_type": "stream",
          "name": "stderr",
          "text": [
            "/usr/local/lib/python3.7/dist-packages/seaborn/distributions.py:2619: FutureWarning: `distplot` is a deprecated function and will be removed in a future version. Please adapt your code to use either `displot` (a figure-level function with similar flexibility) or `histplot` (an axes-level function for histograms).\n",
            "  warnings.warn(msg, FutureWarning)\n"
          ]
        },
        {
          "output_type": "display_data",
          "data": {
            "text/plain": [
              "<Figure size 720x720 with 2 Axes>"
            ],
            "image/png": "[encoded data removed]"
          },
          "metadata": {
            "needs_background": "light"
          }
        }
      ]
    },
    {
      "cell_type": "markdown",
      "source": [
        "no outliers present in price amount and more density at price 2000 and 8000"
      ],
      "metadata": {
        "id": "wvEzJLHdLdhN"
      },
      "id": "wvEzJLHdLdhN"
    },
    {
      "cell_type": "code",
      "source": [
        "plt.figure(figsize = (20,20))\n",
        "sns.barplot(x = 'published_time', y = 'id', data = df)\n",
        "plt.show()"
      ],
      "metadata": {
        "colab": {
          "base_uri": "https://localhost:8080/",
          "height": 1000
        },
        "id": "HsNSvDFtfiw5",
        "outputId": "29b023aa-3057-461a-a1c6-f7c5bca50e5e"
      },
      "id": "HsNSvDFtfiw5",
      "execution_count": null,
      "outputs": [
        {
          "data": {
            "image/png": "[encoded data removed]",
            "text/plain": [
              "<Figure size 1440x1440 with 1 Axes>"
            ]
          },
          "metadata": {},
          "output_type": "display_data"
        }
      ]
    },
    {
      "cell_type": "code",
      "source": [
        "plt.figure(figsize= (10,10))\n",
        "plt.scatter('num_reviews','rating',data = df)\n",
        "plt.xlabel('No_of_reviews')\n",
        "plt.ylabel('Rating')\n",
        "plt.show()"
      ],
      "metadata": {
        "colab": {
          "base_uri": "https://localhost:8080/",
          "height": 606
        },
        "id": "CUfNMGhXoCQp",
        "outputId": "67a60586-b598-4899-c859-710e2087f632"
      },
      "id": "CUfNMGhXoCQp",
      "execution_count": null,
      "outputs": [
        {
          "data": {
            "image/png": "[encoded data removed]",
            "text/plain": [
              "<Figure size 720x720 with 1 Axes>"
            ]
          },
          "metadata": {},
          "output_type": "display_data"
        }
      ]
    },
    {
      "cell_type": "code",
      "source": [
        "plt.figure(figsize= (10,10))\n",
        "sns.regplot(y=df['num_published_lectures'], x=df['price_detail__amount'])\n",
        "plt.title('Publish_lacture_to_price')"
      ],
      "metadata": {
        "colab": {
          "base_uri": "https://localhost:8080/",
          "height": 639
        },
        "id": "SJUn1C9SAn13",
        "outputId": "3d47ceeb-d4fd-40fa-c798-3e47994648e4"
      },
      "id": "SJUn1C9SAn13",
      "execution_count": null,
      "outputs": [
        {
          "data": {
            "text/plain": [
              "Text(0.5, 1.0, 'Publish_lacture_to_price')"
            ]
          },
          "execution_count": 35,
          "metadata": {},
          "output_type": "execute_result"
        },
        {
          "data": {
            "image/png": "[encoded data removed]",
            "text/plain": [
              "<Figure size 720x720 with 1 Axes>"
            ]
          },
          "metadata": {},
          "output_type": "display_data"
        }
      ]
    },
    {
      "cell_type": "markdown",
      "source": [
        "as we see regression plot slightly increase from 0 to towards 12000 as no of publish lectures increase and price amount "
      ],
      "metadata": {
        "id": "sFCWNUJiL5Px"
      },
      "id": "sFCWNUJiL5Px"
    },
    {
      "cell_type": "code",
      "source": [
        "plt.figure(figsize= (10,10))\n",
        "plt.scatter(y=df['num_published_practice_tests'], x=df['price_detail__amount'])\n",
        "plt.title('publish_test_to_price_amount')"
      ],
      "metadata": {
        "colab": {
          "base_uri": "https://localhost:8080/",
          "height": 624
        },
        "id": "jhKgE5fxBtfr",
        "outputId": "ecb87909-8ca1-4188-f445-e59e5cc1d140"
      },
      "id": "jhKgE5fxBtfr",
      "execution_count": null,
      "outputs": [
        {
          "data": {
            "text/plain": [
              "Text(0.5, 1.0, 'publish_test_to_price_amount')"
            ]
          },
          "execution_count": 36,
          "metadata": {},
          "output_type": "execute_result"
        },
        {
          "data": {
            "image/png": "[encoded data removed]",
            "text/plain": [
              "<Figure size 720x720 with 1 Axes>"
            ]
          },
          "metadata": {},
          "output_type": "display_data"
        }
      ]
    },
    {
      "cell_type": "code",
      "source": [
        "top_rated = df[['title','rating']].sort_values(by = 'rating', ascending = False).head(10) \n",
        "top_rated"
      ],
      "metadata": {
        "colab": {
          "base_uri": "https://localhost:8080/",
          "height": 363
        },
        "id": "JRQzL0MZFleH",
        "outputId": "f90f3d76-dc79-47e6-8df1-fbb02ccf13ef"
      },
      "id": "JRQzL0MZFleH",
      "execution_count": null,
      "outputs": [
        {
          "data": {
            "text/html": [
              "\n",
              "  <div id=\"df-7a6bcce2-58d3-4034-acad-0665edc78a5d\">\n",
              "    <div class=\"colab-df-container\">\n",
              "      <div>\n",
              "<style scoped>\n",
              "    .dataframe tbody tr th:only-of-type {\n",
              "        vertical-align: middle;\n",
              "    }\n",
              "\n",
              "    .dataframe tbody tr th {\n",
              "        vertical-align: top;\n",
              "    }\n",
              "\n",
              "    .dataframe thead th {\n",
              "        text-align: right;\n",
              "    }\n",
              "</style>\n",
              "<table border=\"1\" class=\"dataframe\">\n",
              "  <thead>\n",
              "    <tr style=\"text-align: right;\">\n",
              "      <th></th>\n",
              "      <th>title</th>\n",
              "      <th>rating</th>\n",
              "    </tr>\n",
              "  </thead>\n",
              "  <tbody>\n",
              "    <tr>\n",
              "      <th>9446</th>\n",
              "      <td>How to enter the US market?</td>\n",
              "      <td>5.0</td>\n",
              "    </tr>\n",
              "    <tr>\n",
              "      <th>8878</th>\n",
              "      <td>3 Online Business / Side Hustle Ideas For Spor...</td>\n",
              "      <td>5.0</td>\n",
              "    </tr>\n",
              "    <tr>\n",
              "      <th>8675</th>\n",
              "      <td>Scaled Professional Scrum (Nexus) Exam Prep Wo...</td>\n",
              "      <td>5.0</td>\n",
              "    </tr>\n",
              "    <tr>\n",
              "      <th>8684</th>\n",
              "      <td>GROWTH HACKING Fiverr -- full time freelance i...</td>\n",
              "      <td>5.0</td>\n",
              "    </tr>\n",
              "    <tr>\n",
              "      <th>8743</th>\n",
              "      <td>Periscope 101 Profits: Business Strategies Pro...</td>\n",
              "      <td>5.0</td>\n",
              "    </tr>\n",
              "    <tr>\n",
              "      <th>8782</th>\n",
              "      <td>Selling Diamonds: Become Brilliant</td>\n",
              "      <td>5.0</td>\n",
              "    </tr>\n",
              "    <tr>\n",
              "      <th>8787</th>\n",
              "      <td>Freelancing for Artists: How to Build Your Bus...</td>\n",
              "      <td>5.0</td>\n",
              "    </tr>\n",
              "    <tr>\n",
              "      <th>8811</th>\n",
              "      <td>HOW TO MAKE GREAT VERBAL SKILLS</td>\n",
              "      <td>5.0</td>\n",
              "    </tr>\n",
              "    <tr>\n",
              "      <th>8812</th>\n",
              "      <td>Manufacturing Mastery with Production Planning...</td>\n",
              "      <td>5.0</td>\n",
              "    </tr>\n",
              "    <tr>\n",
              "      <th>8822</th>\n",
              "      <td>Sales - A non technical way of selling</td>\n",
              "      <td>5.0</td>\n",
              "    </tr>\n",
              "  </tbody>\n",
              "</table>\n",
              "</div>\n",
              "      <button class=\"colab-df-convert\" onclick=\"convertToInteractive('df-7a6bcce2-58d3-4034-acad-0665edc78a5d')\"\n",
              "              title=\"Convert this dataframe to an interactive table.\"\n",
              "              style=\"display:none;\">\n",
              "        \n",
              "  <svg xmlns=\"http://www.w3.org/2000/svg\" height=\"24px\"viewBox=\"0 0 24 24\"\n",
              "       width=\"24px\">\n",
              "    <path d=\"M0 0h24v24H0V0z\" fill=\"none\"/>\n",
              "    <path d=\"M18.56 5.44l.94 2.06.94-2.06 2.06-.94-2.06-.94-.94-2.06-.94 2.06-2.06.94zm-11 1L8.5 8.5l.94-2.06 2.06-.94-2.06-.94L8.5 2.5l-.94 2.06-2.06.94zm10 10l.94 2.06.94-2.06 2.06-.94-2.06-.94-.94-2.06-.94 2.06-2.06.94z\"/><path d=\"M17.41 7.96l-1.37-1.37c-.4-.4-.92-.59-1.43-.59-.52 0-1.04.2-1.43.59L10.3 9.45l-7.72 7.72c-.78.78-.78 2.05 0 2.83L4 21.41c.39.39.9.59 1.41.59.51 0 1.02-.2 1.41-.59l7.78-7.78 2.81-2.81c.8-.78.8-2.07 0-2.86zM5.41 20L4 18.59l7.72-7.72 1.47 1.35L5.41 20z\"/>\n",
              "  </svg>\n",
              "      </button>\n",
              "      \n",
              "  <style>\n",
              "    .colab-df-container {\n",
              "      display:flex;\n",
              "      flex-wrap:wrap;\n",
              "      gap: 12px;\n",
              "    }\n",
              "\n",
              "    .colab-df-convert {\n",
              "      background-color: #E8F0FE;\n",
              "      border: none;\n",
              "      border-radius: 50%;\n",
              "      cursor: pointer;\n",
              "      display: none;\n",
              "      fill: #1967D2;\n",
              "      height: 32px;\n",
              "      padding: 0 0 0 0;\n",
              "      width: 32px;\n",
              "    }\n",
              "\n",
              "    .colab-df-convert:hover {\n",
              "      background-color: #E2EBFA;\n",
              "      box-shadow: 0px 1px 2px rgba(60, 64, 67, 0.3), 0px 1px 3px 1px rgba(60, 64, 67, 0.15);\n",
              "      fill: #174EA6;\n",
              "    }\n",
              "\n",
              "    [theme=dark] .colab-df-convert {\n",
              "      background-color: #3B4455;\n",
              "      fill: #D2E3FC;\n",
              "    }\n",
              "\n",
              "    [theme=dark] .colab-df-convert:hover {\n",
              "      background-color: #434B5C;\n",
              "      box-shadow: 0px 1px 3px 1px rgba(0, 0, 0, 0.15);\n",
              "      filter: drop-shadow(0px 1px 2px rgba(0, 0, 0, 0.3));\n",
              "      fill: #FFFFFF;\n",
              "    }\n",
              "  </style>\n",
              "\n",
              "      <script>\n",
              "        const buttonEl =\n",
              "          document.querySelector('#df-7a6bcce2-58d3-4034-acad-0665edc78a5d button.colab-df-convert');\n",
              "        buttonEl.style.display =\n",
              "          google.colab.kernel.accessAllowed ? 'block' : 'none';\n",
              "\n",
              "        async function convertToInteractive(key) {\n",
              "          const element = document.querySelector('#df-7a6bcce2-58d3-4034-acad-0665edc78a5d');\n",
              "          const dataTable =\n",
              "            await google.colab.kernel.invokeFunction('convertToInteractive',\n",
              "                                                     [key], {});\n",
              "          if (!dataTable) return;\n",
              "\n",
              "          const docLinkHtml = 'Like what you see? Visit the ' +\n",
              "            '<a target=\"_blank\" href=https://colab.research.google.com/notebooks/data_table.ipynb>data table notebook</a>'\n",
              "            + ' to learn more about interactive tables.';\n",
              "          element.innerHTML = '';\n",
              "          dataTable['output_type'] = 'display_data';\n",
              "          await google.colab.output.renderOutput(dataTable, element);\n",
              "          const docLink = document.createElement('div');\n",
              "          docLink.innerHTML = docLinkHtml;\n",
              "          element.appendChild(docLink);\n",
              "        }\n",
              "      </script>\n",
              "    </div>\n",
              "  </div>\n",
              "  "
            ],
            "text/plain": [
              "                                                  title  rating\n",
              "9446                        How to enter the US market?     5.0\n",
              "8878  3 Online Business / Side Hustle Ideas For Spor...     5.0\n",
              "8675  Scaled Professional Scrum (Nexus) Exam Prep Wo...     5.0\n",
              "8684  GROWTH HACKING Fiverr -- full time freelance i...     5.0\n",
              "8743  Periscope 101 Profits: Business Strategies Pro...     5.0\n",
              "8782                 Selling Diamonds: Become Brilliant     5.0\n",
              "8787  Freelancing for Artists: How to Build Your Bus...     5.0\n",
              "8811                    HOW TO MAKE GREAT VERBAL SKILLS     5.0\n",
              "8812  Manufacturing Mastery with Production Planning...     5.0\n",
              "8822             Sales - A non technical way of selling     5.0"
            ]
          },
          "execution_count": 37,
          "metadata": {},
          "output_type": "execute_result"
        }
      ]
    },
    {
      "cell_type": "markdown",
      "source": [
        "top 10 rating and title "
      ],
      "metadata": {
        "id": "SJNlWyzIPoIv"
      },
      "id": "SJNlWyzIPoIv"
    },
    {
      "cell_type": "code",
      "source": [
        "top_rated_courses = df[['title','num_published_practice_tests','rating']].sort_values(by = 'num_published_practice_tests',ascending = False).head(10)\n",
        "top_rated_courses"
      ],
      "metadata": {
        "colab": {
          "base_uri": "https://localhost:8080/",
          "height": 363
        },
        "id": "ahbQ9F-rP34I",
        "outputId": "bf9a7442-9790-4129-80de-b098a14644ce"
      },
      "id": "ahbQ9F-rP34I",
      "execution_count": null,
      "outputs": [
        {
          "data": {
            "text/html": [
              "\n",
              "  <div id=\"df-5d6c7d11-cc7d-44db-9bba-0a495c164284\">\n",
              "    <div class=\"colab-df-container\">\n",
              "      <div>\n",
              "<style scoped>\n",
              "    .dataframe tbody tr th:only-of-type {\n",
              "        vertical-align: middle;\n",
              "    }\n",
              "\n",
              "    .dataframe tbody tr th {\n",
              "        vertical-align: top;\n",
              "    }\n",
              "\n",
              "    .dataframe thead th {\n",
              "        text-align: right;\n",
              "    }\n",
              "</style>\n",
              "<table border=\"1\" class=\"dataframe\">\n",
              "  <thead>\n",
              "    <tr style=\"text-align: right;\">\n",
              "      <th></th>\n",
              "      <th>title</th>\n",
              "      <th>num_published_practice_tests</th>\n",
              "      <th>rating</th>\n",
              "    </tr>\n",
              "  </thead>\n",
              "  <tbody>\n",
              "    <tr>\n",
              "      <th>7045</th>\n",
              "      <td>Certified Internal Auditor (CIA) - Part 2 prac...</td>\n",
              "      <td>6</td>\n",
              "      <td>4.13924</td>\n",
              "    </tr>\n",
              "    <tr>\n",
              "      <th>4455</th>\n",
              "      <td>Level 4 Diploma - Commercial Contracting (L4M3)</td>\n",
              "      <td>6</td>\n",
              "      <td>4.31352</td>\n",
              "    </tr>\n",
              "    <tr>\n",
              "      <th>7431</th>\n",
              "      <td>Lean Manufacturing, Lean Operations: Learn thr...</td>\n",
              "      <td>6</td>\n",
              "      <td>4.32715</td>\n",
              "    </tr>\n",
              "    <tr>\n",
              "      <th>1369</th>\n",
              "      <td>PMP Question Bank as per PMBOK6</td>\n",
              "      <td>6</td>\n",
              "      <td>3.86850</td>\n",
              "    </tr>\n",
              "    <tr>\n",
              "      <th>6457</th>\n",
              "      <td>Professional in Business Analysis PMI-PBA Exam...</td>\n",
              "      <td>6</td>\n",
              "      <td>4.06094</td>\n",
              "    </tr>\n",
              "    <tr>\n",
              "      <th>8417</th>\n",
              "      <td>CPA 2020 Business Environment &amp; Concepts (BEC)...</td>\n",
              "      <td>6</td>\n",
              "      <td>5.00000</td>\n",
              "    </tr>\n",
              "    <tr>\n",
              "      <th>2483</th>\n",
              "      <td>LEED Green Associate V4 | 400 Questions by Cre...</td>\n",
              "      <td>6</td>\n",
              "      <td>4.06523</td>\n",
              "    </tr>\n",
              "    <tr>\n",
              "      <th>3044</th>\n",
              "      <td>Become a QlikView Expert</td>\n",
              "      <td>6</td>\n",
              "      <td>3.74590</td>\n",
              "    </tr>\n",
              "    <tr>\n",
              "      <th>2870</th>\n",
              "      <td>CAMS Certification Exam Test</td>\n",
              "      <td>6</td>\n",
              "      <td>3.83541</td>\n",
              "    </tr>\n",
              "    <tr>\n",
              "      <th>4206</th>\n",
              "      <td>PMP Exam Simulator-Knowledge area Wise Questio...</td>\n",
              "      <td>6</td>\n",
              "      <td>2.84797</td>\n",
              "    </tr>\n",
              "  </tbody>\n",
              "</table>\n",
              "</div>\n",
              "      <button class=\"colab-df-convert\" onclick=\"convertToInteractive('df-5d6c7d11-cc7d-44db-9bba-0a495c164284')\"\n",
              "              title=\"Convert this dataframe to an interactive table.\"\n",
              "              style=\"display:none;\">\n",
              "        \n",
              "  <svg xmlns=\"http://www.w3.org/2000/svg\" height=\"24px\"viewBox=\"0 0 24 24\"\n",
              "       width=\"24px\">\n",
              "    <path d=\"M0 0h24v24H0V0z\" fill=\"none\"/>\n",
              "    <path d=\"M18.56 5.44l.94 2.06.94-2.06 2.06-.94-2.06-.94-.94-2.06-.94 2.06-2.06.94zm-11 1L8.5 8.5l.94-2.06 2.06-.94-2.06-.94L8.5 2.5l-.94 2.06-2.06.94zm10 10l.94 2.06.94-2.06 2.06-.94-2.06-.94-.94-2.06-.94 2.06-2.06.94z\"/><path d=\"M17.41 7.96l-1.37-1.37c-.4-.4-.92-.59-1.43-.59-.52 0-1.04.2-1.43.59L10.3 9.45l-7.72 7.72c-.78.78-.78 2.05 0 2.83L4 21.41c.39.39.9.59 1.41.59.51 0 1.02-.2 1.41-.59l7.78-7.78 2.81-2.81c.8-.78.8-2.07 0-2.86zM5.41 20L4 18.59l7.72-7.72 1.47 1.35L5.41 20z\"/>\n",
              "  </svg>\n",
              "      </button>\n",
              "      \n",
              "  <style>\n",
              "    .colab-df-container {\n",
              "      display:flex;\n",
              "      flex-wrap:wrap;\n",
              "      gap: 12px;\n",
              "    }\n",
              "\n",
              "    .colab-df-convert {\n",
              "      background-color: #E8F0FE;\n",
              "      border: none;\n",
              "      border-radius: 50%;\n",
              "      cursor: pointer;\n",
              "      display: none;\n",
              "      fill: #1967D2;\n",
              "      height: 32px;\n",
              "      padding: 0 0 0 0;\n",
              "      width: 32px;\n",
              "    }\n",
              "\n",
              "    .colab-df-convert:hover {\n",
              "      background-color: #E2EBFA;\n",
              "      box-shadow: 0px 1px 2px rgba(60, 64, 67, 0.3), 0px 1px 3px 1px rgba(60, 64, 67, 0.15);\n",
              "      fill: #174EA6;\n",
              "    }\n",
              "\n",
              "    [theme=dark] .colab-df-convert {\n",
              "      background-color: #3B4455;\n",
              "      fill: #D2E3FC;\n",
              "    }\n",
              "\n",
              "    [theme=dark] .colab-df-convert:hover {\n",
              "      background-color: #434B5C;\n",
              "      box-shadow: 0px 1px 3px 1px rgba(0, 0, 0, 0.15);\n",
              "      filter: drop-shadow(0px 1px 2px rgba(0, 0, 0, 0.3));\n",
              "      fill: #FFFFFF;\n",
              "    }\n",
              "  </style>\n",
              "\n",
              "      <script>\n",
              "        const buttonEl =\n",
              "          document.querySelector('#df-5d6c7d11-cc7d-44db-9bba-0a495c164284 button.colab-df-convert');\n",
              "        buttonEl.style.display =\n",
              "          google.colab.kernel.accessAllowed ? 'block' : 'none';\n",
              "\n",
              "        async function convertToInteractive(key) {\n",
              "          const element = document.querySelector('#df-5d6c7d11-cc7d-44db-9bba-0a495c164284');\n",
              "          const dataTable =\n",
              "            await google.colab.kernel.invokeFunction('convertToInteractive',\n",
              "                                                     [key], {});\n",
              "          if (!dataTable) return;\n",
              "\n",
              "          const docLinkHtml = 'Like what you see? Visit the ' +\n",
              "            '<a target=\"_blank\" href=https://colab.research.google.com/notebooks/data_table.ipynb>data table notebook</a>'\n",
              "            + ' to learn more about interactive tables.';\n",
              "          element.innerHTML = '';\n",
              "          dataTable['output_type'] = 'display_data';\n",
              "          await google.colab.output.renderOutput(dataTable, element);\n",
              "          const docLink = document.createElement('div');\n",
              "          docLink.innerHTML = docLinkHtml;\n",
              "          element.appendChild(docLink);\n",
              "        }\n",
              "      </script>\n",
              "    </div>\n",
              "  </div>\n",
              "  "
            ],
            "text/plain": [
              "                                                  title  \\\n",
              "7045  Certified Internal Auditor (CIA) - Part 2 prac...   \n",
              "4455    Level 4 Diploma - Commercial Contracting (L4M3)   \n",
              "7431  Lean Manufacturing, Lean Operations: Learn thr...   \n",
              "1369                    PMP Question Bank as per PMBOK6   \n",
              "6457  Professional in Business Analysis PMI-PBA Exam...   \n",
              "8417  CPA 2020 Business Environment & Concepts (BEC)...   \n",
              "2483  LEED Green Associate V4 | 400 Questions by Cre...   \n",
              "3044                           Become a QlikView Expert   \n",
              "2870                       CAMS Certification Exam Test   \n",
              "4206  PMP Exam Simulator-Knowledge area Wise Questio...   \n",
              "\n",
              "      num_published_practice_tests   rating  \n",
              "7045                             6  4.13924  \n",
              "4455                             6  4.31352  \n",
              "7431                             6  4.32715  \n",
              "1369                             6  3.86850  \n",
              "6457                             6  4.06094  \n",
              "8417                             6  5.00000  \n",
              "2483                             6  4.06523  \n",
              "3044                             6  3.74590  \n",
              "2870                             6  3.83541  \n",
              "4206                             6  2.84797  "
            ]
          },
          "execution_count": 38,
          "metadata": {},
          "output_type": "execute_result"
        }
      ]
    },
    {
      "cell_type": "markdown",
      "source": [
        "top 10 rating as per the publish practice test"
      ],
      "metadata": {
        "id": "5HA-EbdNPu1c"
      },
      "id": "5HA-EbdNPu1c"
    },
    {
      "cell_type": "code",
      "source": [
        "df.created"
      ],
      "metadata": {
        "colab": {
          "base_uri": "https://localhost:8080/"
        },
        "id": "pngtqIrJRWu7",
        "outputId": "617eb8ad-fc43-4080-8de2-3db66f6a307c"
      },
      "id": "pngtqIrJRWu7",
      "execution_count": null,
      "outputs": [
        {
          "data": {
            "text/plain": [
              "0       2016-02-14T22:57:48Z\n",
              "1       2016-08-22T12:10:18Z\n",
              "2       2017-09-26T16:32:48Z\n",
              "3       2015-10-23T13:34:35Z\n",
              "4       2015-10-12T06:39:46Z\n",
              "                ...         \n",
              "9442    2018-09-27T04:37:00Z\n",
              "9443    2018-11-29T13:39:30Z\n",
              "9444    2018-10-13T10:03:33Z\n",
              "9445    2020-01-20T18:10:33Z\n",
              "9446    2020-02-07T06:16:29Z\n",
              "Name: created, Length: 8937, dtype: object"
            ]
          },
          "execution_count": 39,
          "metadata": {},
          "output_type": "execute_result"
        }
      ]
    },
    {
      "cell_type": "code",
      "source": [
        "type(df.created)"
      ],
      "metadata": {
        "colab": {
          "base_uri": "https://localhost:8080/"
        },
        "id": "TyuJk4L7TQuf",
        "outputId": "bfc35ebc-7886-4fcb-f8bf-46ad17e69800"
      },
      "id": "TyuJk4L7TQuf",
      "execution_count": null,
      "outputs": [
        {
          "data": {
            "text/plain": [
              "pandas.core.series.Series"
            ]
          },
          "execution_count": 40,
          "metadata": {},
          "output_type": "execute_result"
        }
      ]
    },
    {
      "cell_type": "code",
      "source": [
        "df['published_time']"
      ],
      "metadata": {
        "colab": {
          "base_uri": "https://localhost:8080/"
        },
        "id": "4vel1xrD2_DA",
        "outputId": "5dd5ab9d-d473-4f47-e101-e7fab446d904"
      },
      "id": "4vel1xrD2_DA",
      "execution_count": null,
      "outputs": [
        {
          "output_type": "execute_result",
          "data": {
            "text/plain": [
              "0       2016-04-06T05:16:11Z\n",
              "1       2016-08-23T16:59:49Z\n",
              "2       2017-11-14T23:58:14Z\n",
              "3       2016-01-21T01:38:48Z\n",
              "4       2016-01-11T21:39:33Z\n",
              "                ...         \n",
              "9442    2018-10-31T22:58:12Z\n",
              "9443    2018-12-04T02:13:17Z\n",
              "9444    2018-10-27T21:50:36Z\n",
              "9445    2020-01-21T16:25:32Z\n",
              "9446    2020-02-11T22:10:35Z\n",
              "Name: published_time, Length: 8937, dtype: object"
            ]
          },
          "metadata": {},
          "execution_count": 56
        }
      ]
    },
    {
      "cell_type": "code",
      "source": [
        "type(df['published_time'])"
      ],
      "metadata": {
        "colab": {
          "base_uri": "https://localhost:8080/"
        },
        "id": "2TdxNKrk3GDq",
        "outputId": "d0d2f547-3b44-401c-a929-ee1d9fa51358"
      },
      "id": "2TdxNKrk3GDq",
      "execution_count": null,
      "outputs": [
        {
          "output_type": "execute_result",
          "data": {
            "text/plain": [
              "pandas.core.series.Series"
            ]
          },
          "metadata": {},
          "execution_count": 59
        }
      ]
    },
    {
      "cell_type": "code",
      "source": [
        "df['created'] = pd.to_datetime(df['created'])\n",
        "df['date_created'] = df['created'].dt.date"
      ],
      "metadata": {
        "id": "LXLQlnu2TTFY"
      },
      "id": "LXLQlnu2TTFY",
      "execution_count": null,
      "outputs": []
    },
    {
      "cell_type": "code",
      "source": [
        "df['published_time'] = pd.to_datetime(df['published_time'])\n",
        "df['published_date'] = df['published_time'].dt.date"
      ],
      "metadata": {
        "id": "Po8mtPKT3Z9e"
      },
      "id": "Po8mtPKT3Z9e",
      "execution_count": null,
      "outputs": []
    },
    {
      "cell_type": "code",
      "source": [
        "df['date_created']"
      ],
      "metadata": {
        "colab": {
          "base_uri": "https://localhost:8080/"
        },
        "id": "-6C16Y_UVUN5",
        "outputId": "3b5ef8ac-a630-45b2-b8af-597182e84659"
      },
      "id": "-6C16Y_UVUN5",
      "execution_count": null,
      "outputs": [
        {
          "data": {
            "text/plain": [
              "0       2016-02-14\n",
              "1       2016-08-22\n",
              "2       2017-09-26\n",
              "3       2015-10-23\n",
              "4       2015-10-12\n",
              "           ...    \n",
              "9442    2018-09-27\n",
              "9443    2018-11-29\n",
              "9444    2018-10-13\n",
              "9445    2020-01-20\n",
              "9446    2020-02-07\n",
              "Name: date_created, Length: 8937, dtype: object"
            ]
          },
          "execution_count": 42,
          "metadata": {},
          "output_type": "execute_result"
        }
      ]
    },
    {
      "cell_type": "code",
      "source": [
        "df['year'] = pd.DatetimeIndex(df['date_created']).year\n",
        "df['month'] = pd.DatetimeIndex(df['date_created']).month\n",
        "df['day'] = pd.DatetimeIndex(df['date_created']).day"
      ],
      "metadata": {
        "id": "37zctjEEVX9O"
      },
      "id": "37zctjEEVX9O",
      "execution_count": null,
      "outputs": []
    },
    {
      "cell_type": "code",
      "source": [
        "df.head()"
      ],
      "metadata": {
        "colab": {
          "base_uri": "https://localhost:8080/",
          "height": 565
        },
        "id": "HX35cge3cVOS",
        "outputId": "9b26f74f-17e0-4c97-9b26-033058a8a3b5"
      },
      "id": "HX35cge3cVOS",
      "execution_count": null,
      "outputs": [
        {
          "output_type": "execute_result",
          "data": {
            "text/plain": [
              "        id                                              title  \\\n",
              "0   762616  The Complete SQL Bootcamp 2020: Go from Zero t...   \n",
              "1   937678  Tableau 2020 A-Z: Hands-On Tableau Training fo...   \n",
              "2  1361790             PMP Exam Prep Seminar -  PMBOK Guide 6   \n",
              "3   648826         The Complete Financial Analyst Course 2020   \n",
              "4   637930  An Entire MBA in 1 Course:Award Winning Busine...   \n",
              "\n",
              "                                                 url  is_paid  \\\n",
              "0                 /course/the-complete-sql-bootcamp/        1   \n",
              "1                                 /course/tableau10/        1   \n",
              "2                        /course/pmp-pmbok6-35-pdus/        1   \n",
              "3     /course/the-complete-financial-analyst-course/        1   \n",
              "4  /course/an-entire-mba-in-1-courseaward-winning...        1   \n",
              "\n",
              "   num_subscribers  avg_rating  avg_rating_recent   rating  num_reviews  \\\n",
              "0           295509     4.66019            4.67874  4.67874        78006   \n",
              "1           209070     4.58956            4.60015  4.60015        54581   \n",
              "2           155282     4.59491            4.59326  4.59326        52653   \n",
              "3           245860     4.54407            4.53772  4.53772        46447   \n",
              "4           374836     4.47080            4.47173  4.47173        41630   \n",
              "\n",
              "   is_wishlisted  num_published_lectures  num_published_practice_tests  \\\n",
              "0              0                      84                             0   \n",
              "1              0                      78                             0   \n",
              "2              0                     292                             2   \n",
              "3              0                     338                             0   \n",
              "4              0                      83                             0   \n",
              "\n",
              "   discount_price__amount  price_detail__amount date_created  year  month  \\\n",
              "0                   455.0                  8640   2016-02-14  2016      2   \n",
              "1                   455.0                  8640   2016-08-22  2016      8   \n",
              "2                   455.0                  8640   2017-09-26  2017      9   \n",
              "3                   455.0                  8640   2015-10-23  2015     10   \n",
              "4                   455.0                  8640   2015-10-12  2015     10   \n",
              "\n",
              "   day published_date  \n",
              "0   14     2016-04-06  \n",
              "1   22     2016-08-23  \n",
              "2   26     2017-11-14  \n",
              "3   23     2016-01-21  \n",
              "4   12     2016-01-11  "
            ],
            "text/html": [
              "\n",
              "  <div id=\"df-1abd64de-9ba1-4c47-befe-58db3433deb4\">\n",
              "    <div class=\"colab-df-container\">\n",
              "      <div>\n",
              "<style scoped>\n",
              "    .dataframe tbody tr th:only-of-type {\n",
              "        vertical-align: middle;\n",
              "    }\n",
              "\n",
              "    .dataframe tbody tr th {\n",
              "        vertical-align: top;\n",
              "    }\n",
              "\n",
              "    .dataframe thead th {\n",
              "        text-align: right;\n",
              "    }\n",
              "</style>\n",
              "<table border=\"1\" class=\"dataframe\">\n",
              "  <thead>\n",
              "    <tr style=\"text-align: right;\">\n",
              "      <th></th>\n",
              "      <th>id</th>\n",
              "      <th>title</th>\n",
              "      <th>url</th>\n",
              "      <th>is_paid</th>\n",
              "      <th>num_subscribers</th>\n",
              "      <th>avg_rating</th>\n",
              "      <th>avg_rating_recent</th>\n",
              "      <th>rating</th>\n",
              "      <th>num_reviews</th>\n",
              "      <th>is_wishlisted</th>\n",
              "      <th>num_published_lectures</th>\n",
              "      <th>num_published_practice_tests</th>\n",
              "      <th>discount_price__amount</th>\n",
              "      <th>price_detail__amount</th>\n",
              "      <th>date_created</th>\n",
              "      <th>year</th>\n",
              "      <th>month</th>\n",
              "      <th>day</th>\n",
              "      <th>published_date</th>\n",
              "    </tr>\n",
              "  </thead>\n",
              "  <tbody>\n",
              "    <tr>\n",
              "      <th>0</th>\n",
              "      <td>762616</td>\n",
              "      <td>The Complete SQL Bootcamp 2020: Go from Zero t...</td>\n",
              "      <td>/course/the-complete-sql-bootcamp/</td>\n",
              "      <td>1</td>\n",
              "      <td>295509</td>\n",
              "      <td>4.66019</td>\n",
              "      <td>4.67874</td>\n",
              "      <td>4.67874</td>\n",
              "      <td>78006</td>\n",
              "      <td>0</td>\n",
              "      <td>84</td>\n",
              "      <td>0</td>\n",
              "      <td>455.0</td>\n",
              "      <td>8640</td>\n",
              "      <td>2016-02-14</td>\n",
              "      <td>2016</td>\n",
              "      <td>2</td>\n",
              "      <td>14</td>\n",
              "      <td>2016-04-06</td>\n",
              "    </tr>\n",
              "    <tr>\n",
              "      <th>1</th>\n",
              "      <td>937678</td>\n",
              "      <td>Tableau 2020 A-Z: Hands-On Tableau Training fo...</td>\n",
              "      <td>/course/tableau10/</td>\n",
              "      <td>1</td>\n",
              "      <td>209070</td>\n",
              "      <td>4.58956</td>\n",
              "      <td>4.60015</td>\n",
              "      <td>4.60015</td>\n",
              "      <td>54581</td>\n",
              "      <td>0</td>\n",
              "      <td>78</td>\n",
              "      <td>0</td>\n",
              "      <td>455.0</td>\n",
              "      <td>8640</td>\n",
              "      <td>2016-08-22</td>\n",
              "      <td>2016</td>\n",
              "      <td>8</td>\n",
              "      <td>22</td>\n",
              "      <td>2016-08-23</td>\n",
              "    </tr>\n",
              "    <tr>\n",
              "      <th>2</th>\n",
              "      <td>1361790</td>\n",
              "      <td>PMP Exam Prep Seminar -  PMBOK Guide 6</td>\n",
              "      <td>/course/pmp-pmbok6-35-pdus/</td>\n",
              "      <td>1</td>\n",
              "      <td>155282</td>\n",
              "      <td>4.59491</td>\n",
              "      <td>4.59326</td>\n",
              "      <td>4.59326</td>\n",
              "      <td>52653</td>\n",
              "      <td>0</td>\n",
              "      <td>292</td>\n",
              "      <td>2</td>\n",
              "      <td>455.0</td>\n",
              "      <td>8640</td>\n",
              "      <td>2017-09-26</td>\n",
              "      <td>2017</td>\n",
              "      <td>9</td>\n",
              "      <td>26</td>\n",
              "      <td>2017-11-14</td>\n",
              "    </tr>\n",
              "    <tr>\n",
              "      <th>3</th>\n",
              "      <td>648826</td>\n",
              "      <td>The Complete Financial Analyst Course 2020</td>\n",
              "      <td>/course/the-complete-financial-analyst-course/</td>\n",
              "      <td>1</td>\n",
              "      <td>245860</td>\n",
              "      <td>4.54407</td>\n",
              "      <td>4.53772</td>\n",
              "      <td>4.53772</td>\n",
              "      <td>46447</td>\n",
              "      <td>0</td>\n",
              "      <td>338</td>\n",
              "      <td>0</td>\n",
              "      <td>455.0</td>\n",
              "      <td>8640</td>\n",
              "      <td>2015-10-23</td>\n",
              "      <td>2015</td>\n",
              "      <td>10</td>\n",
              "      <td>23</td>\n",
              "      <td>2016-01-21</td>\n",
              "    </tr>\n",
              "    <tr>\n",
              "      <th>4</th>\n",
              "      <td>637930</td>\n",
              "      <td>An Entire MBA in 1 Course:Award Winning Busine...</td>\n",
              "      <td>/course/an-entire-mba-in-1-courseaward-winning...</td>\n",
              "      <td>1</td>\n",
              "      <td>374836</td>\n",
              "      <td>4.47080</td>\n",
              "      <td>4.47173</td>\n",
              "      <td>4.47173</td>\n",
              "      <td>41630</td>\n",
              "      <td>0</td>\n",
              "      <td>83</td>\n",
              "      <td>0</td>\n",
              "      <td>455.0</td>\n",
              "      <td>8640</td>\n",
              "      <td>2015-10-12</td>\n",
              "      <td>2015</td>\n",
              "      <td>10</td>\n",
              "      <td>12</td>\n",
              "      <td>2016-01-11</td>\n",
              "    </tr>\n",
              "  </tbody>\n",
              "</table>\n",
              "</div>\n",
              "      <button class=\"colab-df-convert\" onclick=\"convertToInteractive('df-1abd64de-9ba1-4c47-befe-58db3433deb4')\"\n",
              "              title=\"Convert this dataframe to an interactive table.\"\n",
              "              style=\"display:none;\">\n",
              "        \n",
              "  <svg xmlns=\"http://www.w3.org/2000/svg\" height=\"24px\"viewBox=\"0 0 24 24\"\n",
              "       width=\"24px\">\n",
              "    <path d=\"M0 0h24v24H0V0z\" fill=\"none\"/>\n",
              "    <path d=\"M18.56 5.44l.94 2.06.94-2.06 2.06-.94-2.06-.94-.94-2.06-.94 2.06-2.06.94zm-11 1L8.5 8.5l.94-2.06 2.06-.94-2.06-.94L8.5 2.5l-.94 2.06-2.06.94zm10 10l.94 2.06.94-2.06 2.06-.94-2.06-.94-.94-2.06-.94 2.06-2.06.94z\"/><path d=\"M17.41 7.96l-1.37-1.37c-.4-.4-.92-.59-1.43-.59-.52 0-1.04.2-1.43.59L10.3 9.45l-7.72 7.72c-.78.78-.78 2.05 0 2.83L4 21.41c.39.39.9.59 1.41.59.51 0 1.02-.2 1.41-.59l7.78-7.78 2.81-2.81c.8-.78.8-2.07 0-2.86zM5.41 20L4 18.59l7.72-7.72 1.47 1.35L5.41 20z\"/>\n",
              "  </svg>\n",
              "      </button>\n",
              "      \n",
              "  <style>\n",
              "    .colab-df-container {\n",
              "      display:flex;\n",
              "      flex-wrap:wrap;\n",
              "      gap: 12px;\n",
              "    }\n",
              "\n",
              "    .colab-df-convert {\n",
              "      background-color: #E8F0FE;\n",
              "      border: none;\n",
              "      border-radius: 50%;\n",
              "      cursor: pointer;\n",
              "      display: none;\n",
              "      fill: #1967D2;\n",
              "      height: 32px;\n",
              "      padding: 0 0 0 0;\n",
              "      width: 32px;\n",
              "    }\n",
              "\n",
              "    .colab-df-convert:hover {\n",
              "      background-color: #E2EBFA;\n",
              "      box-shadow: 0px 1px 2px rgba(60, 64, 67, 0.3), 0px 1px 3px 1px rgba(60, 64, 67, 0.15);\n",
              "      fill: #174EA6;\n",
              "    }\n",
              "\n",
              "    [theme=dark] .colab-df-convert {\n",
              "      background-color: #3B4455;\n",
              "      fill: #D2E3FC;\n",
              "    }\n",
              "\n",
              "    [theme=dark] .colab-df-convert:hover {\n",
              "      background-color: #434B5C;\n",
              "      box-shadow: 0px 1px 3px 1px rgba(0, 0, 0, 0.15);\n",
              "      filter: drop-shadow(0px 1px 2px rgba(0, 0, 0, 0.3));\n",
              "      fill: #FFFFFF;\n",
              "    }\n",
              "  </style>\n",
              "\n",
              "      <script>\n",
              "        const buttonEl =\n",
              "          document.querySelector('#df-1abd64de-9ba1-4c47-befe-58db3433deb4 button.colab-df-convert');\n",
              "        buttonEl.style.display =\n",
              "          google.colab.kernel.accessAllowed ? 'block' : 'none';\n",
              "\n",
              "        async function convertToInteractive(key) {\n",
              "          const element = document.querySelector('#df-1abd64de-9ba1-4c47-befe-58db3433deb4');\n",
              "          const dataTable =\n",
              "            await google.colab.kernel.invokeFunction('convertToInteractive',\n",
              "                                                     [key], {});\n",
              "          if (!dataTable) return;\n",
              "\n",
              "          const docLinkHtml = 'Like what you see? Visit the ' +\n",
              "            '<a target=\"_blank\" href=https://colab.research.google.com/notebooks/data_table.ipynb>data table notebook</a>'\n",
              "            + ' to learn more about interactive tables.';\n",
              "          element.innerHTML = '';\n",
              "          dataTable['output_type'] = 'display_data';\n",
              "          await google.colab.output.renderOutput(dataTable, element);\n",
              "          const docLink = document.createElement('div');\n",
              "          docLink.innerHTML = docLinkHtml;\n",
              "          element.appendChild(docLink);\n",
              "        }\n",
              "      </script>\n",
              "    </div>\n",
              "  </div>\n",
              "  "
            ]
          },
          "metadata": {},
          "execution_count": 66
        }
      ]
    },
    {
      "cell_type": "code",
      "source": [
        "plt.figure(figsize = (10,5))\n",
        "plt.xticks(fontsize =10, rotation = 'vertical')\n",
        "sns.countplot(x=df['year'],order = df['year'].value_counts().sort_values(ascending = False).index)\n",
        "plt.title('courses_per_year') "
      ],
      "metadata": {
        "colab": {
          "base_uri": "https://localhost:8080/",
          "height": 382
        },
        "id": "e4LNrXPjWRXL",
        "outputId": "da2a0643-be04-47d2-903c-1ac5bceb4644"
      },
      "id": "e4LNrXPjWRXL",
      "execution_count": null,
      "outputs": [
        {
          "output_type": "execute_result",
          "data": {
            "text/plain": [
              "Text(0.5, 1.0, 'courses_per_year')"
            ]
          },
          "metadata": {},
          "execution_count": 50
        },
        {
          "output_type": "display_data",
          "data": {
            "text/plain": [
              "<Figure size 720x360 with 1 Axes>"
            ],
            "image/png": "[encoded data removed]"
          },
          "metadata": {
            "needs_background": "light"
          }
        }
      ]
    },
    {
      "cell_type": "markdown",
      "source": [
        "no of courses publish in year highest no of courses publishes in 2018 is about to 1750 and min no of courses publishes in year 2010 and 2011\n",
        "\n"
      ],
      "metadata": {
        "id": "QCaYNecIQEba"
      },
      "id": "QCaYNecIQEba"
    },
    {
      "cell_type": "code",
      "source": [
        "df.to_excel(\"C:\\DATA SCIENCE\\Capston Project\\Business Intelligence on Ed-Tech Data\\online_All_Business_p1_p626.xlsx\",index = False)"
      ],
      "metadata": {
        "id": "xQs3dh5lYoYg"
      },
      "id": "xQs3dh5lYoYg",
      "execution_count": null,
      "outputs": []
    },
    {
      "cell_type": "code",
      "source": [],
      "metadata": {
        "id": "oaBupDx52BQJ"
      },
      "id": "oaBupDx52BQJ",
      "execution_count": null,
      "outputs": []
    }
  ],
  "metadata": {
    "kernelspec": {
      "display_name": "Python 3 (ipykernel)",
      "language": "python",
      "name": "python3"
    },
    "language_info": {
      "codemirror_mode": {
        "name": "ipython",
        "version": 3
      },
      "file_extension": ".py",
      "mimetype": "text/x-python",
      "name": "python",
      "nbconvert_exporter": "python",
      "pygments_lexer": "ipython3",
      "version": "3.9.7"
    },
    "colab": {
      "provenance": [],
      "collapsed_sections": []
    }
  },
  "nbformat": 4,
  "nbformat_minor": 5
}